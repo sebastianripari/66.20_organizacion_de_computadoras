{
 "cells": [
  {
   "cell_type": "markdown",
   "metadata": {},
   "source": [
    "# Procesador Superescalar"
   ]
  },
  {
   "cell_type": "markdown",
   "metadata": {},
   "source": [
    "El procesador superescalar es un cpu que implementa una forma de paralelismo llamada <b>instruction level parallelism</b> con un unico procesador. En contraste con el procesador escalar que ejecuta al menos una unica instruccion por ciclo de reloj, un procesador escalar puede ejecutar mas de una instruccion durante un ciclo de clock simulantamente despachando multiples instrucciones en diferentes unidades de ejecucion sobre el procesador."
   ]
  },
  {
   "cell_type": "markdown",
   "metadata": {},
   "source": [
    "<img src=\"Imagenes/superescalar_processor.png\">"
   ]
  },
  {
   "cell_type": "markdown",
   "metadata": {},
   "source": [
    "En la taxonomía de Flynn , un procesador superescalar de un solo núcleo se clasifica como un procesador SISD (secuencia de instrucción única, secuencia de datos única), aunque muchos procesadores superscalar admiten operaciones vectoriales cortas y, por lo tanto, podrían clasificarse como SIMD (secuencia de instrucción única, secuencias de datos múltiples) . Un procesador superscalar de múltiples núcleos se clasifica como un procesador MIMD (flujos de instrucciones múltiples, flujos de datos múltiples)."
   ]
  }
 ],
 "metadata": {
  "kernelspec": {
   "display_name": "Python 3",
   "language": "python",
   "name": "python3"
  },
  "language_info": {
   "codemirror_mode": {
    "name": "ipython",
    "version": 3
   },
   "file_extension": ".py",
   "mimetype": "text/x-python",
   "name": "python",
   "nbconvert_exporter": "python",
   "pygments_lexer": "ipython3",
   "version": "3.6.4"
  }
 },
 "nbformat": 4,
 "nbformat_minor": 2
}
