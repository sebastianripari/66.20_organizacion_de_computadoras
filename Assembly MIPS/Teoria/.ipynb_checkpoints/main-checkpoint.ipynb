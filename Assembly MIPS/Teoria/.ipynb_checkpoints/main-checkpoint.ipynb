{
 "cells": [
  {
   "cell_type": "markdown",
   "metadata": {},
   "source": [
    "# Registros"
   ]
  },
  {
   "cell_type": "markdown",
   "metadata": {},
   "source": [
    "Numero|Nombre|Descripcion\n",
    "-|-|-\n",
    "R0|0| Vale siempre cero\n",
    "R1|\n",
    "R2 - R3|V0 - V1| Son los registros que contienen el valor de retorno \n",
    "R4 - R7|A0 - A3| Son los registros que contienen los argumentos\n",
    "R8 - R15; R24 - R25|T0 - T9| Son los registros temporales\n",
    "R16 - R23| S0-S7 | Saved Registers\n",
    "R26 - R27| K0 - K1 | Kernel Reserved Registers. No usar.\n",
    "R28 | GP | Global Pointer\n",
    "R29 | SP | Stack Pointer\n",
    "R30 | FP | Frame Pointer\n",
    "R31 | RA | Return Address"
   ]
  },
  {
   "cell_type": "markdown",
   "metadata": {},
   "source": [
    "# Stack Frame"
   ]
  },
  {
   "cell_type": "markdown",
   "metadata": {},
   "source": [
    "Cada subrutina que es llamada crea un <b>stack frame</b>, en caso de una rutina recursiva, se crean multiples stack frame, una para cada llamada recurisva. La roganizacion de el stack frame es importante por dos razones.\n",
    "- Forma un contrato entre el <b>caller</b> y el <b>callee</b> que define como los argumentos son pasados entre el caller y el callee y como el resultado de una funcion es pasado del callee al caller.\n",
    "- Define la organizacion del almacenamineto local de la rutina."
   ]
  },
  {
   "cell_type": "markdown",
   "metadata": {},
   "source": [
    "El stack frame esta conformado por:\n",
    "- Espacio para almacenar argumentos pasados a subrutinas que esta subrutina llama.\n",
    "- Un lugar para almacenar los valores de los \"saved registers\".\n",
    "- Un lugar para almacenar el return address de la subrutina.\n",
    "- Un lugar para almacenar datos locales."
   ]
  },
  {
   "cell_type": "markdown",
   "metadata": {},
   "source": [
    "# Ejemplos:"
   ]
  },
  {
   "cell_type": "markdown",
   "metadata": {},
   "source": [
    "## Ejemplo 1:"
   ]
  },
  {
   "cell_type": "raw",
   "metadata": {},
   "source": [
    "int g(int x, int y) {\n",
    "    return x + y; \n",
    "}"
   ]
  },
  {
   "cell_type": "markdown",
   "metadata": {},
   "source": [
    "<b>Observacion</b>:"
   ]
  }
 ],
 "metadata": {
  "kernelspec": {
   "display_name": "Python 3",
   "language": "python",
   "name": "python3"
  },
  "language_info": {
   "codemirror_mode": {
    "name": "ipython",
    "version": 3
   },
   "file_extension": ".py",
   "mimetype": "text/x-python",
   "name": "python",
   "nbconvert_exporter": "python",
   "pygments_lexer": "ipython3",
   "version": "3.6.4"
  }
 },
 "nbformat": 4,
 "nbformat_minor": 2
}
