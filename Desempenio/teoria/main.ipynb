{
 "cells": [
  {
   "cell_type": "markdown",
   "metadata": {},
   "source": [
    "# Ley de Amdahl"
   ]
  },
  {
   "cell_type": "markdown",
   "metadata": {},
   "source": [
    "\\begin{equation}\n",
    "\\large S_{UP} = \\frac{T_{Viejo}}{T_{Nuevo}}\n",
    "\\end{equation}"
   ]
  },
  {
   "cell_type": "markdown",
   "metadata": {},
   "source": [
    "Donde:\n",
    "- $S_{UP}$: Speed Up. Es la aceleracion que se obtiene al aplicar una mejora.\n",
    "- $T_{Viejo}$: Tiempo que tardaba la ejecucion del programa antes de realizar la mejora.\n",
    "- $T_{Nuevo}$: Tiempo que tarda ahora con la mejora aplicada."
   ]
  },
  {
   "cell_type": "markdown",
   "metadata": {},
   "source": [
    "\\begin{equation}\n",
    "\\large S_{UP} = \\frac{1}{(1 - F_m) + \\frac{F_m}{S^m_{UP}}}\n",
    "\\end{equation}"
   ]
  },
  {
   "cell_type": "markdown",
   "metadata": {},
   "source": [
    "Donde:\n",
    "- $F_m$: Fraccion de tiempo que se le aplicara la mejora.\n",
    "- $S^m_{UP}$: Speed Up que se obtiene en la fraccion de tiempo donde se aplica la mejora. Tambien llamado <b>Speed Up Local</b>"
   ]
  },
  {
   "cell_type": "markdown",
   "metadata": {},
   "source": [
    "# Ecuacion de Desempenio"
   ]
  },
  {
   "cell_type": "markdown",
   "metadata": {},
   "source": [
    "\\begin{equation}\n",
    "\\large CPU_{Time} = IC * CPI * T_{Clock}\n",
    "\\end{equation}"
   ]
  },
  {
   "cell_type": "markdown",
   "metadata": {},
   "source": [
    "Donde:\n",
    "- IC: Instruccion count.\n",
    "- CPI: Ciclos por instruccion.\n",
    "- $T_{Clock}$: Tiempo de clock."
   ]
  },
  {
   "cell_type": "markdown",
   "metadata": {},
   "source": [
    "\\begin{equation}\n",
    "\\large CPI = \\frac{\\sum^n_{i = 1} {IC_i * CPI_i}}{IC} = \\sum^n_{i = 1} \\frac{IC_i}{IC} * CPI_i\n",
    "\\end{equation}"
   ]
  },
  {
   "cell_type": "markdown",
   "metadata": {},
   "source": [
    "Donde:\n",
    "- i: Refiere al tipo de instruccion. Como por ejemplo de punto flotante.\n",
    "- n: Es la cantidad de tipos diferentes de instrucciones.\n",
    "- $IC_i$: Cantidad de instrucciones del tipo i.\n",
    "- $CPI_i$: Ciclos por instruccion de las de tipo i."
   ]
  }
 ],
 "metadata": {
  "kernelspec": {
   "display_name": "Python 3",
   "language": "python",
   "name": "python3"
  },
  "language_info": {
   "codemirror_mode": {
    "name": "ipython",
    "version": 3
   },
   "file_extension": ".py",
   "mimetype": "text/x-python",
   "name": "python",
   "nbconvert_exporter": "python",
   "pygments_lexer": "ipython3",
   "version": "3.6.4"
  }
 },
 "nbformat": 4,
 "nbformat_minor": 2
}
