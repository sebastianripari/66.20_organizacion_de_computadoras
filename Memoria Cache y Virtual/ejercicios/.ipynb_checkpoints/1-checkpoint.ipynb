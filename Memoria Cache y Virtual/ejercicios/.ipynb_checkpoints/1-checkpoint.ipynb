{
 "cells": [
  {
   "cell_type": "markdown",
   "metadata": {},
   "source": [
    "1) Dada una <b>CPU MIPS</b> con hardware de manejo de memoria virtual se pide: <br>\n",
    "a) Calcular el tamanio del espacio de direcciones virtuales. <br>\n",
    "b) Dar una cota maxima de la cantidad de memoria que efectivamente puede usar un programa. <br>\n",
    "c) Calcular el tamanio en bytes de la tabla de traduccion de paginas. <br>\n",
    "d) Calcular el tiempo de acceso promedio a memoria para una cache direccionada por direcciones virtuales. <br>\n",
    "<br>\n",
    "<b>Datos</b>: <br>\n",
    "RAM = 512 MB <br>\n",
    "SWAP = 256 MB <br>\n",
    "5 bytes por entrada en tabla de traduccion de pagina (<b>Peso de Entrada de Page Table</b>) <br>\n",
    "Tasa de desaciertos de la memoria cache = 5% ($\\bf MR_{Cache}$) <br>\n",
    "Tiempo de acierto = 2ns ($\\bf T^{Hit}_{Cache}$)<br>\n",
    "Tiempo de copiar un bloque completo de memoria principal a memoria cache = 40ns <br>\n",
    "Tasa de desaciertos del TLB = 3% ($\\bf MR_{TLB}$) <br> \n",
    "Tiempo de actualizar una entrada en TLB = 15ns (<b>Tiempo de Actualizar entrada</b>)<br>\n",
    "Tasa de falla de paginas = 0.0001% <br>\n",
    "Penalidad por falla de paginas = 3 mseg <br>\n",
    "Aclare cualquier hipotesis que realice, y justifique las respuestas."
   ]
  },
  {
   "cell_type": "markdown",
   "metadata": {},
   "source": [
    "<hr>"
   ]
  },
  {
   "cell_type": "markdown",
   "metadata": {},
   "source": [
    "a) En MIPS32, tenemos 32 bits por direccion virtual, por lo tanto existen $2^{32}$ direcciones virtuales. Por lo tanto podemos apuntar a $2^{32}$ direcciones diferentes de 1 byte. Por lo tanto el espacio que ocupa la memoria virtual es de $2^32$ bytes osea 4gb."
   ]
  },
  {
   "cell_type": "markdown",
   "metadata": {},
   "source": [
    "b) La cantidad maxima de memoria que puede usar un programa es la cantidad de <b>memoria virtual</b> que halla. Por lo tanto como hay 4gb de memoria virtual, la respuesta es 4gb."
   ]
  },
  {
   "cell_type": "markdown",
   "metadata": {},
   "source": [
    "c) El tamanio de la tabla de paginas, es igual a el tamanio de cada entrada multiplicado por la cantidad de entradas que existen. La cuestion es que no tenemos informacion suficiente para calcular la cantidad de entradas de la tabla de paginas. Asi que este punto no se puede resolver."
   ]
  },
  {
   "cell_type": "markdown",
   "metadata": {},
   "source": [
    "d) "
   ]
  },
  {
   "cell_type": "markdown",
   "metadata": {},
   "source": [
    "Como la cache esta direccionada por direcciones virtuales, lo que primero hace CPU es ir a fijarse a la cache. Si hay un hit entonces ya obtiene la direccion fisica. Y no hace falta nada mas."
   ]
  },
  {
   "cell_type": "markdown",
   "metadata": {},
   "source": [
    "\\begin{equation}\n",
    "\\large T_{Acceso} = T_{Cache}\n",
    "\\end{equation}"
   ]
  },
  {
   "cell_type": "markdown",
   "metadata": {},
   "source": [
    "\\begin{equation}\n",
    "\\large T_{Cache} = T^{Hit}_{Cache} + T^{Miss}_{Cache}\n",
    "\\end{equation}"
   ]
  },
  {
   "cell_type": "markdown",
   "metadata": {},
   "source": [
    "\\begin{equation}\n",
    "\\large T^{Miss}_{Cache} = MR_{Cache} MP_{Cache}\n",
    "\\end{equation}"
   ]
  },
  {
   "cell_type": "markdown",
   "metadata": {},
   "source": [
    "\\begin{equation}\n",
    "\\large MP_{Cache} = 40ns + T^{Hit}_{TLB} + MR_{TLB} MP_{TLB}\n",
    "\\end{equation}"
   ]
  },
  {
   "cell_type": "markdown",
   "metadata": {},
   "source": [
    "\\begin{equation}\n",
    "\\large MP_{TLB} = 15ns + TasaFalla_{PT} PenalidadFalla_{PT} = 15ns + (0.000001 * 3000000ns) = 15ns + 3ns \n",
    "\\end{equation}"
   ]
  },
  {
   "cell_type": "markdown",
   "metadata": {},
   "source": [
    "Por lo tanto la expresion queda:"
   ]
  },
  {
   "cell_type": "markdown",
   "metadata": {},
   "source": [
    "\\begin{equation}\n",
    "\\large T_{Acceso} = T^{Hit}_{Cache} + MR_{Cache} [40ns + T^{Hit}_{TLB} + MR_{TLB} MP_{TLB}]\n",
    "\\end{equation}"
   ]
  },
  {
   "cell_type": "markdown",
   "metadata": {},
   "source": [
    "Usando los datos:"
   ]
  },
  {
   "cell_type": "markdown",
   "metadata": {},
   "source": [
    "\\begin{equation}\n",
    "\\large T_{Acceso} = 2ns + 0.05 [40ns + 0 + 0.03 * 18ns] = 4.027ns\n",
    "\\end{equation}"
   ]
  }
 ],
 "metadata": {
  "kernelspec": {
   "display_name": "Python 3",
   "language": "python",
   "name": "python3"
  },
  "language_info": {
   "codemirror_mode": {
    "name": "ipython",
    "version": 3
   },
   "file_extension": ".py",
   "mimetype": "text/x-python",
   "name": "python",
   "nbconvert_exporter": "python",
   "pygments_lexer": "ipython3",
   "version": "3.6.4"
  }
 },
 "nbformat": 4,
 "nbformat_minor": 2
}
