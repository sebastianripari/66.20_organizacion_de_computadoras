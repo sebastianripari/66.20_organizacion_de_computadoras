{
 "cells": [
  {
   "cell_type": "markdown",
   "metadata": {},
   "source": [
    "4) Indicar para cada uno de los siguiente componentes del sistema de memoria, si el mismo es transparente o no a la arquitectura de programacio. Justifique sus respuestas. <br>"
   ]
  },
  {
   "cell_type": "markdown",
   "metadata": {},
   "source": [
    "a) Memoria cache de nivel 1.<br>\n",
    "b) Memoria virtual paginada.<br>\n",
    "c) Memoria virtual segmendada."
   ]
  },
  {
   "cell_type": "markdown",
   "metadata": {},
   "source": [
    "<hr>"
   ]
  },
  {
   "cell_type": "markdown",
   "metadata": {},
   "source": [
    "a) Memoria cache de nivel 1: Es totalmente <b>transparente</b> al programador. Ya que este programa sin saber que existe, el programador solo ve los datos en disco. Sabe que existen ahi, pero le es transparente la jerarquia de memoria desde disco hasta memoria cache, pasando por memoria ram."
   ]
  },
  {
   "cell_type": "markdown",
   "metadata": {},
   "source": [
    "b) Memoria virtual paginada: Respondido en la a)."
   ]
  },
  {
   "cell_type": "markdown",
   "metadata": {},
   "source": [
    "c) Memoria virtual segmentada: Cuando la memoria virtual es segmentada esta es visible al programador, ya que este puede usar diferentes segmentos de memoria, para diferentes datos. Y estos segmentos tienen diferentes propiedades, de lectura, escritura, execucion, que el programador conociendolos le ayudara a interpretar problemas como <b>segmentation fault</b>."
   ]
  }
 ],
 "metadata": {
  "kernelspec": {
   "display_name": "Python 3",
   "language": "python",
   "name": "python3"
  },
  "language_info": {
   "codemirror_mode": {
    "name": "ipython",
    "version": 3
   },
   "file_extension": ".py",
   "mimetype": "text/x-python",
   "name": "python",
   "nbconvert_exporter": "python",
   "pygments_lexer": "ipython3",
   "version": "3.6.4"
  }
 },
 "nbformat": 4,
 "nbformat_minor": 2
}
