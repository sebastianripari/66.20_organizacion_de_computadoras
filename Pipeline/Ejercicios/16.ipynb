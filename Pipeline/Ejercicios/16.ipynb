{
 "cells": [
  {
   "cell_type": "markdown",
   "metadata": {},
   "source": [
    "16) Calcular la penalidad de branch para un BTB (Branch Target Buffer) con estos parametros: 60% de branches son tomados, el BTB tiene una tasa de hit de 90% y 95% de precision en la prediccion."
   ]
  },
  {
   "cell_type": "markdown",
   "metadata": {},
   "source": [
    "- BTB hit y correcta predicion tomado - penalidad de 2 ciclos.\n",
    "- BTB Hit y correcta predicion no tomado - penalidad de 0 ciclos.\n",
    "- BTB hit e incorrecta prediccion tomado - penalidad de 8 ciclos.\n",
    "- BTB hit e incorrecta prediccion no tomado - penalidad de 8 ciclos.\n",
    "- BTB miss y tomado - penalidad de 8 ciclos.\n",
    "- BTB miss y no tomado - penalidad de 0 ciclos."
   ]
  },
  {
   "cell_type": "markdown",
   "metadata": {},
   "source": [
    "<hr>"
   ]
  },
  {
   "cell_type": "markdown",
   "metadata": {},
   "source": [
    "\\begin{equation}\n",
    "Ciclos de Penalidad = P(Tomado) * Penalidad_{Tomado} + P(NoTomado) * Penalidad_{NoTomado}\n",
    "\\end{equation}"
   ]
  },
  {
   "cell_type": "markdown",
   "metadata": {},
   "source": [
    "\\begin{equation}\n",
    "Ciclos de Penalidad = 0.6 * Penalidad_{Tomado} + 0.4 * Penalidad_{NoTomado}\n",
    "\\end{equation}"
   ]
  },
  {
   "cell_type": "markdown",
   "metadata": {},
   "source": [
    "\\begin{equation}\n",
    "Penalidad_{Tomado} = P(Hit) * Penalidad_{TomadoHit} + P(Miss) * Penalidad_{TomadoMiss}\n",
    "\\end{equation}"
   ]
  },
  {
   "cell_type": "markdown",
   "metadata": {},
   "source": [
    "\\begin{equation}\n",
    "Penalidad_{TomadoHit} = P(PredicionCorrecta) * Penalidad_{PrediccionCorrecta} + P(PredicionIncorrecta) * Penalidad_{Prediccion Incorrecta}\n",
    "\\end{equation}"
   ]
  },
  {
   "cell_type": "markdown",
   "metadata": {},
   "source": [
    "\\begin{equation}\n",
    "Penalidad_{TomadoHit} = 0.95 * 2 + 0.05 * 8 = 2.3\n",
    "\\end{equation}"
   ]
  },
  {
   "cell_type": "markdown",
   "metadata": {},
   "source": [
    "\\begin{equation}\n",
    "Penalidad_{TomadoMiss} = P(PredicionCorrecta) * Penalidad_{PrediccionCorrecta} + P(PredicionIncorrecta) * Penalidad_{Prediccion Incorrecta}\n",
    "\\end{equation}"
   ]
  },
  {
   "cell_type": "markdown",
   "metadata": {},
   "source": [
    "\\begin{equation}\n",
    "Penalidad_{Tomado} = 0.9 * 2.3 + 0.1 * 8 = 2.6\n",
    "\\end{equation}"
   ]
  },
  {
   "cell_type": "markdown",
   "metadata": {},
   "source": [
    "\\begin{equation}\n",
    "Penalidad_{NoTomado} = P(Hit) * Penalidad_{NoTomadoHit} + P(Miss) * Penalidad_{NoTomadoMiss}\n",
    "\\end{equation}"
   ]
  },
  {
   "cell_type": "markdown",
   "metadata": {},
   "source": [
    "\\begin{equation}\n",
    "Penalidad_{NoTomado} = 0.9 * 0 + 0.1 * 0 = 0\n",
    "\\end{equation}"
   ]
  },
  {
   "cell_type": "markdown",
   "metadata": {},
   "source": [
    "\\begin{equation}\n",
    "CiclosDePenalidad = 0.6 * 2.6 + 0.4 * 0 =   \n",
    "\\end{equation}"
   ]
  }
 ],
 "metadata": {
  "kernelspec": {
   "display_name": "Python 3",
   "language": "python",
   "name": "python3"
  },
  "language_info": {
   "codemirror_mode": {
    "name": "ipython",
    "version": 3
   },
   "file_extension": ".py",
   "mimetype": "text/x-python",
   "name": "python",
   "nbconvert_exporter": "python",
   "pygments_lexer": "ipython3",
   "version": "3.6.4"
  }
 },
 "nbformat": 4,
 "nbformat_minor": 2
}
