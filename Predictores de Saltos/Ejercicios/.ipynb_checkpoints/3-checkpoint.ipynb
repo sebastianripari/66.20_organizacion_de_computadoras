{
 "cells": [
  {
   "cell_type": "markdown",
   "metadata": {},
   "source": [
    "3) Realice un esquema de un predictor de saltos en dos niveles con 2 bits de <b>historia global</b> y 1 de <b>historia local</b>. Porque logra un buen funciona este tipo de predictores. Calcule la tasa de prediccion del predictor pedido para el codigo dado (codigo del problema 11 de arquitecturas). Suponer que la primera vez de cada branch la prediccion es NT."
   ]
  },
  {
   "cell_type": "markdown",
   "metadata": {},
   "source": [
    "<hr>"
   ]
  }
 ],
 "metadata": {
  "kernelspec": {
   "display_name": "Python 3",
   "language": "python",
   "name": "python3"
  },
  "language_info": {
   "codemirror_mode": {
    "name": "ipython",
    "version": 3
   },
   "file_extension": ".py",
   "mimetype": "text/x-python",
   "name": "python",
   "nbconvert_exporter": "python",
   "pygments_lexer": "ipython3",
   "version": "3.6.4"
  }
 },
 "nbformat": 4,
 "nbformat_minor": 2
}
