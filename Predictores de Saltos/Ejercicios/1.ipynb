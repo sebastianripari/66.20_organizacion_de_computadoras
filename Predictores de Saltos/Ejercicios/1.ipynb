{
 "cells": [
  {
   "cell_type": "markdown",
   "metadata": {},
   "source": [
    "1) Describir como funciona un predictor de saltos de dos niveles y porque un esquema asi puede ser efectivo."
   ]
  },
  {
   "cell_type": "markdown",
   "metadata": {},
   "source": [
    "<hr>"
   ]
  },
  {
   "cell_type": "markdown",
   "metadata": {},
   "source": [
    "Un predictor de dos niveles funciona utlizando dos tablas, la primer tabla es la que guarda para cada salto <b>$B_i$</b> el historico de si tomo el salto o no las ultimas <b>m</b> veces. Esta tabla se llama <b>Branch History Register Table</b>. Asi que el output de esta tabla sera este historico de m bits, 1 en cada posicion si el salto fue tomado y 0 sino fue tomado. Luego con este <b>History Register</b> indexamos en la siguiente tabla para obtener el historial de lo que hicieron las instrucciones que tenian el mismo patron, esto se denomina <b>History Pattern</b>, y se lo denota <b>$S_c$</b>, es una tira de bits de 1 y 0 para indicar los saltos tomados. Luego se le aplica una funcion <b>$Z_i$</b> a <b>$S_c$</b> para lograr finalmente la prediccion."
   ]
  },
  {
   "cell_type": "markdown",
   "metadata": {},
   "source": [
    "Un esquema asi suele ser efectivo ya para las instrucciones de salto que se comportaron igual en el pasado hara lo mismo en el futuro."
   ]
  }
 ],
 "metadata": {
  "kernelspec": {
   "display_name": "Python 3",
   "language": "python",
   "name": "python3"
  },
  "language_info": {
   "codemirror_mode": {
    "name": "ipython",
    "version": 3
   },
   "file_extension": ".py",
   "mimetype": "text/x-python",
   "name": "python",
   "nbconvert_exporter": "python",
   "pygments_lexer": "ipython3",
   "version": "3.6.4"
  }
 },
 "nbformat": 4,
 "nbformat_minor": 2
}
