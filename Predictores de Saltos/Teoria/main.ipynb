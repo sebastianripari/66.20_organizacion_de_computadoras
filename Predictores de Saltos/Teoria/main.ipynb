{
 "cells": [
  {
   "cell_type": "markdown",
   "metadata": {},
   "source": [
    "# Predictores de Saltos"
   ]
  },
  {
   "cell_type": "markdown",
   "metadata": {},
   "source": [
    "Como hemos visto en el esquema pipeline, varias instrucciones son puestas en el pipeline, logrando de que en cada ciclo del procesador se lleven a cabo las diferentes etapas de cada instruccion. "
   ]
  },
  {
   "cell_type": "markdown",
   "metadata": {},
   "source": [
    "Ciclos|C1|C2|C3|C4|C5|C6|C7\n",
    "-|-|-|\n",
    "Instruccion 1|IF|ID|EX|MEM|WB\n",
    "Instruccion 2|-|IF|ID|EX|MEM|WB\n",
    "Instruccion 3|-|-|IF|ID|EX|MEM|WB"
   ]
  },
  {
   "cell_type": "markdown",
   "metadata": {},
   "source": [
    "Esto se puede hacer en el caso de que se conozca con seguridad el orden de las instrucciones. El orden se conoce a en la mayoria de las instrucciones, pero no se lo conoce en las instrucciones de salto condicional. Esas instrucciones dependiendo se si se cumple o no la condicion setean en diferentes lugares el program counter. Y por lo tanto como no conocemos cual sera la siguiente instruccion no la podemos colocar en el pipeline. Entonces pensariamos que el procesador haria lo siguiente:"
   ]
  },
  {
   "cell_type": "markdown",
   "metadata": {},
   "source": [
    "Ciclos|C1|C2|C3|C4|C5|C6|C7\n",
    "-|-|-|\n",
    "Instruccion 1|IF|ID|EX|MEM|WB\n",
    "Instruccion 2|-|IF|ID|EX|MEM|WB\n",
    "Instruccion Salto|-|-|IF|ID|EX|MEM|WB\n",
    "Instruccion Siguiente|-|-|-|Stall|Stall|Stall|Stall|IF|ID|EX|MEM|WB"
   ]
  },
  {
   "cell_type": "markdown",
   "metadata": {},
   "source": [
    "Perdiendo de esta forma 4 ciclos del procesador. Esto obviamente es poco performante, por lo tanto. Lo que comunmente se usa es un <b>Predictor de Saltos</b>. Que como su nombre lo dice intenta predecir a donde seguira el program counter. Y por lo tanto colocara las instrucciones que corresponden a su decision. Para que se vallan ejecutando. Si la prediccion fue correcta las deja, pero si resulta que la prediccion fue incorrecta debera sacar estas instrucciones."
   ]
  }
 ],
 "metadata": {
  "kernelspec": {
   "display_name": "Python 3",
   "language": "python",
   "name": "python3"
  },
  "language_info": {
   "codemirror_mode": {
    "name": "ipython",
    "version": 3
   },
   "file_extension": ".py",
   "mimetype": "text/x-python",
   "name": "python",
   "nbconvert_exporter": "python",
   "pygments_lexer": "ipython3",
   "version": "3.6.4"
  }
 },
 "nbformat": 4,
 "nbformat_minor": 2
}
