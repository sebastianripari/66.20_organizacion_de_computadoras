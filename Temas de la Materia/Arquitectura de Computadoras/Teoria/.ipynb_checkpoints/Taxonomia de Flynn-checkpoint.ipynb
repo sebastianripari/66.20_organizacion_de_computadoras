{
 "cells": [
  {
   "cell_type": "markdown",
   "metadata": {},
   "source": [
    "# Taxonomia de Flynn"
   ]
  },
  {
   "cell_type": "markdown",
   "metadata": {},
   "source": [
    "La <b>Taxonomia de Flynn</b> es una clasificacion de arquitecturas de computadoras propuesta por <b>Michael J. Flynn</b>."
   ]
  },
  {
   "cell_type": "markdown",
   "metadata": {},
   "source": [
    "## Clasificaciones"
   ]
  },
  {
   "cell_type": "markdown",
   "metadata": {},
   "source": [
    "Las <b>cuatro clasificaciones</b> definidas por Flynn se basan en el <b>numero de instrucciones concurrentes</b> (control) y en los <b>flujos de datos disponibles</b> en la arquitectura:"
   ]
  },
  {
   "cell_type": "markdown",
   "metadata": {},
   "source": [
    "<img src=\"Imagenes/taxonomia_de_flynn.png\">"
   ]
  },
  {
   "cell_type": "markdown",
   "metadata": {},
   "source": [
    "### Una instruccion, un dato (SISD)"
   ]
  },
  {
   "cell_type": "markdown",
   "metadata": {},
   "source": [
    "Computador secuencial que no explota el paralelismo en las instrucciones ni en flujos de datos. Es la Arquitectura Von-Neummann. Un unico procesador ejecuta un solo flujo de instrucciones para operar datos en una unica memoria. Se ejecuta una unica instruccion y un dato en cada ciclo de reloj. Puede utilizar tecnicas de segmentacion o de pipeling. Ejemplos de arquitecturas SISD son las maquinas con uni-procesador o monoprocesador tradicionales como el PC o los antiguos mainframe."
   ]
  },
  {
   "cell_type": "markdown",
   "metadata": {},
   "source": [
    "### Una instruccion, multiples datos (SIMD)"
   ]
  },
  {
   "cell_type": "markdown",
   "metadata": {},
   "source": [
    "Todas las unidades ejecutan la misma instruccion sincronizadamente, pero con datos distintos. Es un computador que explota varios flujos de datos dentro de un unico flujo de instrucciones para realizar operaciones que pueden ser paralelizadas de manera natural. Puede ser de Arquitectura Vectorial o Arquitectura Matricial."
   ]
  },
  {
   "cell_type": "markdown",
   "metadata": {},
   "source": [
    "### Multiples instrucciones, multiples datos (MISD)"
   ]
  },
  {
   "cell_type": "markdown",
   "metadata": {},
   "source": [
    "Poco comun debido al hecho de que la efectividad de los multiples flujos de instrucciones suele precisar de multiples flujos de datos. Sin embargo, este tipo se usa en situaciones de paralelismo redundante, como por ejemplo en navegacion aerea, donde se necesitan varios sistemas de respaldo en caso de que uno falle. Tambien se han propuesto algunas arquitecturas teoricas que hacen uso de MISD, pero ninguna llego a producirse en masa. Algunos autores considera que las arquitecturas vectoriales supersegmentadas o vectorial escalar forman parte de este modelo ya que en un momento dado se pueden estar manipulando un dato (el vector) por varias instrucciones, no obstante no existe concenso al respecto."
   ]
  },
  {
   "cell_type": "markdown",
   "metadata": {},
   "source": [
    "### Multiples instrucciones, multiples datos (MIMD)"
   ]
  },
  {
   "cell_type": "markdown",
   "metadata": {},
   "source": [
    "Varios procesadores autonomos que ejecutan simultaneamente instrucciones diferentes sobre datos diferentes. Los sistemas distribuidos suelen clasificarse como arquitecturas MIMD, bien sea explotando un unico espacio compartido memoria o uno distribuido."
   ]
  },
  {
   "cell_type": "markdown",
   "metadata": {},
   "source": [
    "## Diagrama de comparacion de las clasificaciones de la Taxonomia de Flynn"
   ]
  },
  {
   "cell_type": "markdown",
   "metadata": {},
   "source": [
    "Esas cuatro arquitecturas son mostradas visualmente a continuación en donde cada \"PU\" (processing unit) es una unidad de procesamiento:"
   ]
  },
  {
   "cell_type": "markdown",
   "metadata": {},
   "source": [
    "<img src=\"Imagenes/clasificacion_tax_flynn_visual.png\">"
   ]
  }
 ],
 "metadata": {
  "kernelspec": {
   "display_name": "Python 3",
   "language": "python",
   "name": "python3"
  },
  "language_info": {
   "codemirror_mode": {
    "name": "ipython",
    "version": 3
   },
   "file_extension": ".py",
   "mimetype": "text/x-python",
   "name": "python",
   "nbconvert_exporter": "python",
   "pygments_lexer": "ipython3",
   "version": "3.6.4"
  }
 },
 "nbformat": 4,
 "nbformat_minor": 2
}
