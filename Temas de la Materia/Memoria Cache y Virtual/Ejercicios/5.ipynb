{
 "cells": [
  {
   "cell_type": "markdown",
   "metadata": {},
   "source": [
    "5) Se tiene una memoria cache de 4KBytes, asociativa por conjuntos de grado 4, bloque de 16 bytes y politica de reemplazo LRU."
   ]
  },
  {
   "cell_type": "markdown",
   "metadata": {},
   "source": [
    "a) Realice un diagrama en bloques detallado de la memoria cache (incluir el area de tags)."
   ]
  },
  {
   "cell_type": "markdown",
   "metadata": {},
   "source": [
    "b) Dar las direcciones para cinco datos A,B,C,D,E,F de manera tal que accedidos en el orden dado por una CPU MIPS se cumpla lo siguiente:\n",
    "1. A mapea en el conjunto 1.\n",
    "2. B produce Hit.\n",
    "3. C no pertenece al bloque que contiene a A y mapea en el mismo conjunto en el que mapeo A.\n",
    "4. El acceso a F es miss."
   ]
  },
  {
   "cell_type": "markdown",
   "metadata": {},
   "source": [
    "C) Indicar en el diagrama del punto 'a' el contenido final de la memoria cache (area de datos y area de tags).<br>\n",
    "Las direcciones se deben dar en hexadecimal. No se pueden hacer hipotesis acerca del contenido previo de la cache Justificar sus respuestas."
   ]
  },
  {
   "cell_type": "markdown",
   "metadata": {},
   "source": [
    "<hr>"
   ]
  },
  {
   "cell_type": "markdown",
   "metadata": {},
   "source": [
    "\\begin{equation}\n",
    "\\large Cache_{Size} = 4 KB\n",
    "\\end{equation}"
   ]
  },
  {
   "cell_type": "markdown",
   "metadata": {},
   "source": [
    "\\begin{equation}\n",
    "\\large Block_{Size} = 16 B\n",
    "\\end{equation}"
   ]
  },
  {
   "cell_type": "markdown",
   "metadata": {},
   "source": [
    "\\begin{equation}\n",
    "\\large N_{Blocks} = \\frac{Cache_{Size}}{Block_{Size}} = \\frac{4 * 1024}{16} = 256\n",
    "\\end{equation}"
   ]
  },
  {
   "cell_type": "markdown",
   "metadata": {},
   "source": [
    "Bits para referenciar una palabra dentro de un bloque:"
   ]
  },
  {
   "cell_type": "markdown",
   "metadata": {},
   "source": [
    "\\begin{equation}\n",
    "\\large Bits_{Offset} = log_2(Block_{Size}) = log_2(16) = 4\n",
    "\\end{equation}"
   ]
  },
  {
   "cell_type": "markdown",
   "metadata": {},
   "source": [
    "Bits para indicar el conjunto:"
   ]
  },
  {
   "cell_type": "markdown",
   "metadata": {},
   "source": [
    "\\begin{equation}\n",
    "\\large Bits_{Index} = log_2(N_{Blocks}) = log_2(256) = 8\n",
    "\\end{equation}"
   ]
  },
  {
   "cell_type": "markdown",
   "metadata": {},
   "source": [
    "Bits para el tag:"
   ]
  },
  {
   "cell_type": "markdown",
   "metadata": {},
   "source": [
    "\\begin{equation}\n",
    "\\large Bits_{Tag} = 32 - Bits_{Index} - Bits_{Tag} = 32 - 8 - 4 = 20\n",
    "\\end{equation}"
   ]
  },
  {
   "cell_type": "markdown",
   "metadata": {},
   "source": [
    "<img src=\"imagenes/direccion_de_memoria.png\">"
   ]
  },
  {
   "cell_type": "markdown",
   "metadata": {},
   "source": [
    "<hr>"
   ]
  },
  {
   "cell_type": "markdown",
   "metadata": {},
   "source": [
    "b)"
   ]
  },
  {
   "cell_type": "markdown",
   "metadata": {},
   "source": [
    "- A mapea en el conjunto 1."
   ]
  },
  {
   "cell_type": "markdown",
   "metadata": {},
   "source": [
    "Asi que los bits de index que son del 4 al 11 tienen que ser 0000 0001. Por lo tanto <b>A</b> podria ser:"
   ]
  },
  {
   "cell_type": "markdown",
   "metadata": {},
   "source": [
    "A = 0000 0000 | 0000 0000 | 0000 0000 | 0001 0000 "
   ]
  },
  {
   "cell_type": "markdown",
   "metadata": {},
   "source": [
    "<b>A = 0 x 0000 0010</b>"
   ]
  },
  {
   "cell_type": "markdown",
   "metadata": {},
   "source": [
    "- B produce Hit."
   ]
  },
  {
   "cell_type": "markdown",
   "metadata": {},
   "source": [
    "Para que B sea Hit tiene que estar en el mismo bloque que A, y por lo tanto tambien estar en el mismo conjunto. Por lo tanto las direcciones de A y de B tienen que tener el mismo index y el mismo tag. Y solo debe variar el offset."
   ]
  },
  {
   "cell_type": "markdown",
   "metadata": {},
   "source": [
    "B = 0000 0000 | 0000 0000 | 0000 0000 | 0001 0001"
   ]
  },
  {
   "cell_type": "markdown",
   "metadata": {},
   "source": [
    "<b>B = 0 x 0000 0011"
   ]
  },
  {
   "cell_type": "markdown",
   "metadata": {},
   "source": [
    "- C no pertenece al bloque que contiene a A y mapea en el mismo conjunto en el que mapeo A."
   ]
  },
  {
   "cell_type": "markdown",
   "metadata": {},
   "source": [
    "C no pertenece al mismo bloque que contiene A por lo tanto el las direcciones de A y de C tienen tags diferentes, pero como tenemos que hacer que mapeen al mismo conjunto el index tiene que ser el mismo."
   ]
  },
  {
   "cell_type": "markdown",
   "metadata": {},
   "source": [
    "C = 1111 0000 | 0000 0000 | 0000 0000 | 0000 0000"
   ]
  },
  {
   "cell_type": "markdown",
   "metadata": {},
   "source": [
    "<b>C = 0 x F000 0000</b>"
   ]
  },
  {
   "cell_type": "markdown",
   "metadata": {},
   "source": [
    "- El acceso a F es miss:"
   ]
  },
  {
   "cell_type": "markdown",
   "metadata": {},
   "source": [
    "Una manera de hacer que el acceso a F sea miss es que la direccion tenga un tag diferente a A,B,C,D,E."
   ]
  },
  {
   "cell_type": "markdown",
   "metadata": {},
   "source": [
    "<b>E = 0 x A000 0000</b>"
   ]
  },
  {
   "cell_type": "markdown",
   "metadata": {},
   "source": [
    "<b>F = 0 x B000 0000</b>"
   ]
  }
 ],
 "metadata": {
  "kernelspec": {
   "display_name": "Python 3",
   "language": "python",
   "name": "python3"
  },
  "language_info": {
   "codemirror_mode": {
    "name": "ipython",
    "version": 3
   },
   "file_extension": ".py",
   "mimetype": "text/x-python",
   "name": "python",
   "nbconvert_exporter": "python",
   "pygments_lexer": "ipython3",
   "version": "3.6.4"
  }
 },
 "nbformat": 4,
 "nbformat_minor": 2
}
