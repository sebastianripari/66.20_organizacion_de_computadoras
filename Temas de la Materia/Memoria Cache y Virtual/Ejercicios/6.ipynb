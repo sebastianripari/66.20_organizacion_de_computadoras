{
 "cells": [
  {
   "cell_type": "markdown",
   "metadata": {},
   "source": [
    "6) Indicar la cantidad de bytes de informacion que se transfieren entre los distintos pares de dispositivos dados en la siguiente tabla, para los eventos indicados y la configuracion del sistema de memoria dada:"
   ]
  },
  {
   "cell_type": "markdown",
   "metadata": {},
   "source": [
    "Configuracion:\n",
    "- Procesador MIPS.\n",
    "- Cache L1 write through.\n",
    "- Cache L2 write back.\n",
    "- Tamanio de bloque L1 32 bytes.\n",
    "- Tamanio de bloque L2 32 bytes.\n",
    "- Se debe suponer que los bloques de la cache L2 que entren en juego estan modificados."
   ]
  },
  {
   "cell_type": "markdown",
   "metadata": {},
   "source": [
    "-|CPU-Cache L1|Cache L1 - Cache L2|Cache L1 - Memoria\n",
    "-|-|-|-\n",
    "Acceso a dato de instruccion lw.<br>Miss en L1 y en L2|-|-|-\n",
    "Acceso a dato de instruccion sw.<br>Miss en L1 y Hit en L2|-|-|-\n",
    "Busqueda de instruccion addi.<br>Hit en L1 y en L2|-|-|-"
   ]
  },
  {
   "cell_type": "markdown",
   "metadata": {},
   "source": [
    "<hr>"
   ]
  }
 ],
 "metadata": {
  "kernelspec": {
   "display_name": "Python 3",
   "language": "python",
   "name": "python3"
  },
  "language_info": {
   "codemirror_mode": {
    "name": "ipython",
    "version": 3
   },
   "file_extension": ".py",
   "mimetype": "text/x-python",
   "name": "python",
   "nbconvert_exporter": "python",
   "pygments_lexer": "ipython3",
   "version": "3.7.0"
  }
 },
 "nbformat": 4,
 "nbformat_minor": 2
}
