{
 "cells": [
  {
   "cell_type": "markdown",
   "metadata": {},
   "source": [
    "15) Suponer las siguientes frecuencias de saltos (como porcentaje del total de instrucciones):\n",
    "- Saltos condicionales 15% (60% son tomados).\n",
    "- Saltos incondicionales y llamadas 1%."
   ]
  },
  {
   "cell_type": "markdown",
   "metadata": {},
   "source": [
    "Estamos examinando un pipeline MIPS de 4 etapas (IF-ID-EX/MEM-WB) donde los saltos incondicionales son resueltos al final del segundo ciclo, y los condicionales al final del tercer ciclo. Asumiendo que la primera etapa puede hacerse independientemente del resultado del salto, e ignorando otras situaciones de detenimiento del pipeline. Cuanto mas rapido seria la maquina sin riesgos de salto (branch hazards)?"
   ]
  },
  {
   "cell_type": "markdown",
   "metadata": {},
   "source": [
    "<hr>"
   ]
  },
  {
   "cell_type": "markdown",
   "metadata": {},
   "source": [
    "Separamos los saltos condicionales entre tomados y no tomados: \n",
    "- 9% del total son saltos condicionales tomados. (0.15 * 60 = 9)\n",
    "- 6% del total son saltos condicionales no tomados. (0.15 * 40 = 6)"
   ]
  },
  {
   "cell_type": "markdown",
   "metadata": {},
   "source": [
    "La primera etapa, IF, se hace independientemente del resultado del salto. Los saltos incondicionales se resuelven en el segundo ciclo por lo tanto tenemos un ciclo de stall. En cambio con los saltos condicionales como se resuelven en el tercer ciclo tendremos dos ciclos de stall."
   ]
  },
  {
   "cell_type": "markdown",
   "metadata": {},
   "source": [
    "Si tuviesemos 100 instrucciones y no tuviesemos hazards. Salvo en los primeros ciclos, luego de estos terminaria de  ejecutarse una instruccion por ciclo. Despreciando los primeros ciclos podriamos decir que 100 instrucciones se ejecutan en 100 ciclos."
   ]
  },
  {
   "cell_type": "markdown",
   "metadata": {},
   "source": [
    "Ahora calculemos cuantos ciclos tardaria cuando hay riesgos de hazards:"
   ]
  },
  {
   "cell_type": "markdown",
   "metadata": {},
   "source": [
    "\\begin{equation}\n",
    "\\large T_{100} = 100 + 9 * Ciclos Stall_{Salto Condicional} + 6 * Ciclos Stall_{Salto Incondicional} =\n",
    "\\end{equation}"
   ]
  },
  {
   "cell_type": "markdown",
   "metadata": {},
   "source": [
    "\\begin{equation}\n",
    "\\large T_{100} = 100 + 9 * 2 + 1 * 1 = 100 + 18 + 1 = 119 \n",
    "\\end{equation}"
   ]
  },
  {
   "cell_type": "markdown",
   "metadata": {},
   "source": [
    "Por lo tanto la maquina seria un 19% mas rapida sin riesgos de salto."
   ]
  }
 ],
 "metadata": {
  "kernelspec": {
   "display_name": "Python 3",
   "language": "python",
   "name": "python3"
  },
  "language_info": {
   "codemirror_mode": {
    "name": "ipython",
    "version": 3
   },
   "file_extension": ".py",
   "mimetype": "text/x-python",
   "name": "python",
   "nbconvert_exporter": "python",
   "pygments_lexer": "ipython3",
   "version": "3.6.4"
  }
 },
 "nbformat": 4,
 "nbformat_minor": 2
}
