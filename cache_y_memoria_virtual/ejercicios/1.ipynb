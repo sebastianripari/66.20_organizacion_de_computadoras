{
 "cells": [
  {
   "cell_type": "markdown",
   "metadata": {},
   "source": [
    "1) Dada una <b>CPU MIPS</b> con hardware de manejo de memoria virtual se pide: <br>\n",
    "a) Calcular el tamanio del espacio de direcciones virtuales. <br>\n",
    "b) Dar una cota maxima de la cantidad de memoria que efectivamente puede usar un programa. <br>\n",
    "c) Calcular el tamanio en bytes de la tabla de traduccion de paginas. <br>\n",
    "d) Calcular el tiempo de acceso promedio a memoria para una cache direccionada por direcciones virtuales. <br>\n",
    "<br>\n",
    "<b>Datos</b>: <br>\n",
    "RAM = 512 MB <br>\n",
    "SWAP = 256 MB <br>\n",
    "5 bytes por entrada en tabla de traduccion de pagina <br>\n",
    "Tasa de desaciertos de la memoria cache = 5% <br>\n",
    "Tiempo de acierto = 2ns <br>\n",
    "Tiempo de copiar un bloque completo de memoria principal a memoria cache = 40ns <br>\n",
    "Tasa de desaciertos del TLB = 3% <br>\n",
    "Tiempo de actualizar una entrada en TLB = 15ns <br>\n",
    "Tasa de falla de paginas = 0.0001% <br>\n",
    "Penalidad por falla de paginas = 3 mseg <br>\n",
    "Aclare cualquier hipotesis que realice, y justifique las respuestas."
   ]
  },
  {
   "cell_type": "markdown",
   "metadata": {},
   "source": [
    "<hr>"
   ]
  },
  {
   "cell_type": "markdown",
   "metadata": {},
   "source": [
    "b) La maxima cantidad de memoria que puede usar un programa es la cantidad de <b>memoria virtual</b>."
   ]
  },
  {
   "cell_type": "markdown",
   "metadata": {},
   "source": [
    "d) Tiempo de acceso promedio a memoria para cache direccionada por direcciones virtuales:"
   ]
  },
  {
   "cell_type": "markdown",
   "metadata": {},
   "source": [
    "\\begin{equation*}\n",
    "T_{Acceso} = \n",
    "\\end{equation*}"
   ]
  },
  {
   "cell_type": "code",
   "execution_count": null,
   "metadata": {},
   "outputs": [],
   "source": []
  }
 ],
 "metadata": {
  "kernelspec": {
   "display_name": "Python 3",
   "language": "python",
   "name": "python3"
  },
  "language_info": {
   "codemirror_mode": {
    "name": "ipython",
    "version": 3
   },
   "file_extension": ".py",
   "mimetype": "text/x-python",
   "name": "python",
   "nbconvert_exporter": "python",
   "pygments_lexer": "ipython3",
   "version": "3.7.0"
  }
 },
 "nbformat": 4,
 "nbformat_minor": 2
}
