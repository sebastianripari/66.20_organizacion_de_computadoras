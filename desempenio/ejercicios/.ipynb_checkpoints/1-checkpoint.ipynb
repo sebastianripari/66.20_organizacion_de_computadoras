{
 "cells": [
  {
   "cell_type": "markdown",
   "metadata": {},
   "source": [
    "1. Escribir la ecuacion de desempenio de CPU. Indicar para cada uno de los componentes de la ecuacion si este es afectado o no por: <br>\n",
    "a) Tecnologia del Hardware. <br>\n",
    "b) La organizacion. <br>\n",
    "c) La arquitectura del conjunto de instruccciones. <br>\n",
    "d) Tecnologia del compilador. <br>"
   ]
  },
  {
   "cell_type": "markdown",
   "metadata": {},
   "source": [
    "<hr>"
   ]
  },
  {
   "cell_type": "markdown",
   "metadata": {},
   "source": [
    "#### Ecuacion de desempenio de CPU:"
   ]
  },
  {
   "cell_type": "markdown",
   "metadata": {},
   "source": [
    "\\begin{equation*}\n",
    "T_{CPU} = IC * CPI * t\n",
    "\\end{equation*}"
   ]
  },
  {
   "cell_type": "markdown",
   "metadata": {},
   "source": [
    "Siendo:\n",
    "- <b>IC</b>: <b>Instruction Counter</b>: Es la cantidad de instrucciones ejecutadas.\n",
    "- <b>CPI</b>: <b>Ciclos Por Instruccion</b>: Es la cantidad de ciclos de reloj (clock) que lleva cada instruccion en promedio.\n",
    "- <b>t</b>: <b>Periodo del clock </b>"
   ]
  },
  {
   "cell_type": "markdown",
   "metadata": {},
   "source": [
    "a) La <b>tecnologia del hardware</b> afecta el <b>periodo del clock</b>."
   ]
  },
  {
   "cell_type": "markdown",
   "metadata": {},
   "source": [
    "b) La <b>organizacion</b> afecta al <b>cpi</b> ya que no da lo mismo si usamos un pipeline de 4 etapas a uno de 5 por ejemplo."
   ]
  },
  {
   "cell_type": "markdown",
   "metadata": {},
   "source": [
    "c) "
   ]
  }
 ],
 "metadata": {
  "kernelspec": {
   "display_name": "Python 3",
   "language": "python",
   "name": "python3"
  },
  "language_info": {
   "codemirror_mode": {
    "name": "ipython",
    "version": 3
   },
   "file_extension": ".py",
   "mimetype": "text/x-python",
   "name": "python",
   "nbconvert_exporter": "python",
   "pygments_lexer": "ipython3",
   "version": "3.7.0"
  }
 },
 "nbformat": 4,
 "nbformat_minor": 2
}
