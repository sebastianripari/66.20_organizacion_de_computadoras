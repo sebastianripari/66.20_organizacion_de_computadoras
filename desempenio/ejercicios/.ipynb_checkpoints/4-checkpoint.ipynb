{
 "cells": [
  {
   "cell_type": "markdown",
   "metadata": {},
   "source": [
    "4) Suponer que se hicieron las siguiente mediciones para la ejecucion de un determinado <b>benchmark</b>: <br>\n",
    "Frecuencia de todas las operaciones de <b>FP</b> = 45% <br>\n",
    "<b>CPI</b> promedio de las operaciones <b>FP</b> = 4.85 <br>\n",
    "<b>CPI</b> promedio de otras instrucciones = 1.73 <br>\n",
    "Frecuencia de <b>FPSQR</b> = 5% <br>\n",
    "<b>CPI</b> de <b>FPSQR</b> = 20 <br>\n",
    "<br>\n",
    "Suponer que se intenta llevar el CPI de las operaciones FPSQR a 3. <br>\n",
    "<br>\n",
    "a) Calcular el porcentaje de tiempo en la maquina <b>no mejorada</b> en la ejecucion del programa trabaja en operaciones en <b>PF</b>. <br>\n",
    "b) Calcular el porcentaje de tiempo en la maquina <b>no mejorada</b> en la ejecucion del programa trabaja en operaciones de <b>FPSQR</b>. <br>\n",
    "c) Calcular el porcentaje de tiempo en la maquina <b>mejorada</b> en la ejecucion del programa trabaja en operaciones de <b>FP</b>. <br>\n",
    "d) Calcular el porcentaje de tiempo en la maquina <b>mejorada</b> en la ejecucion del programa trabaja en operaciones de <b>FPSQR</b>. <br>\n",
    "e) Calcular en cuanto se <b>aceleran</b> las opereaciones de <b>FPSQR</b>. <br>\n",
    "f) Calcular la <b>aceleracion</b> global obtenida. <br>\n",
    "<br>\n",
    "<b>Nota:</b> FP: Punto Flotante, FPSQR: Raiz Cuadrada en Punto Flotante."
   ]
  },
  {
   "cell_type": "markdown",
   "metadata": {},
   "source": [
    "<hr>"
   ]
  },
  {
   "cell_type": "markdown",
   "metadata": {},
   "source": [
    "a) Plantiemos el tiempo que le lleva ejecutar el <b>benchmark</b> a la maquina <b>sin mejorar</b>:"
   ]
  },
  {
   "cell_type": "markdown",
   "metadata": {},
   "source": [
    "\\begin{equation*}\n",
    "T = IC * CPI * T_{Clock}\n",
    "\\end{equation*}"
   ]
  },
  {
   "cell_type": "markdown",
   "metadata": {},
   "source": [
    "Ahora plantiemos el tiempo que le lleva ejecutar la parte de <b>punto flotante</b> a esta misma maquina."
   ]
  },
  {
   "cell_type": "markdown",
   "metadata": {},
   "source": [
    "\\begin{equation*}\n",
    "T_{FP} = IC_{FP} * CPI_{FP} * T_{Clock}\n",
    "\\end{equation*}"
   ]
  },
  {
   "cell_type": "markdown",
   "metadata": {},
   "source": [
    "Ahora calculemos el porcentaje de tiempo de <b>FP</b> sobre el <b>total</b>:"
   ]
  },
  {
   "cell_type": "markdown",
   "metadata": {},
   "source": [
    "\\begin{equation*}\n",
    "\\frac{T_{FP}}{T} = \\frac{IC_{FP} * CPI_{FP} * T_{Clock}}{IC * CPI * T_{Clock}}\n",
    "\\end{equation*}"
   ]
  },
  {
   "cell_type": "markdown",
   "metadata": {},
   "source": [
    "Simplificamos el tiempo de un clock:"
   ]
  },
  {
   "cell_type": "markdown",
   "metadata": {},
   "source": [
    "\\begin{equation*}\n",
    "\\frac{T_{FP}}{T} = \\frac{IC_{FP} * CPI_{FP}}{IC * CPI}\n",
    "\\end{equation*}"
   ]
  },
  {
   "cell_type": "markdown",
   "metadata": {},
   "source": [
    "Usando los datos:"
   ]
  },
  {
   "cell_type": "markdown",
   "metadata": {},
   "source": [
    "\\begin{equation*}\n",
    "\\frac{T_{FP}}{T} = \\frac{0.45 * 4.85}{0.45 * 4.85 + 0.05 * 20 + 0.5 * 1.73} = \\frac{2.1825}{4.0475} = 0.53\n",
    "\\end{equation*}"
   ]
  },
  {
   "cell_type": "markdown",
   "metadata": {},
   "source": [
    "b) Ahora nos piden hacerlo mismo que en el punto a) pero en lugar de con <b>punto flotante</b>, nos piden con instrucciones de <b>raiz cuadrada de punto flotante</b>."
   ]
  },
  {
   "cell_type": "markdown",
   "metadata": {},
   "source": [
    "\\begin{equation*}\n",
    "\\frac{T_{FP}}{T} = \\frac{IC_{FPSQR} * CPI_{FPSQR} * T_{Clock}}{IC * CPI * T_{Clock}}\n",
    "\\end{equation*}"
   ]
  },
  {
   "cell_type": "markdown",
   "metadata": {},
   "source": [
    "Podemos simplificar nuevamente el <b>tiempo de clock</b>:"
   ]
  },
  {
   "cell_type": "markdown",
   "metadata": {},
   "source": [
    "\\begin{equation*}\n",
    "\\frac{T_{FP}}{T} = \\frac{IC_{FPSQR} * CPI_{FPSQR}}{IC * CPI}\n",
    "\\end{equation*}"
   ]
  },
  {
   "cell_type": "markdown",
   "metadata": {},
   "source": [
    "Ahora, usemos los datos:"
   ]
  },
  {
   "cell_type": "markdown",
   "metadata": {},
   "source": [
    "\\begin{equation*}\n",
    "\\frac{T_{FP}}{T} = \\frac{0.05 * 20}{0.45 * 4.85 + 0.05 * 20 + 0.5 * 1.73} = \\frac{1}{4.04} = 0.2475\n",
    "\\end{equation*}"
   ]
  },
  {
   "cell_type": "markdown",
   "metadata": {},
   "source": [
    "c) Calculemos el porcentaje de tiempo que llevan las instrucciones de <b>PF</b> ahora en la <b>maquina mejorada</b>:"
   ]
  },
  {
   "cell_type": "markdown",
   "metadata": {},
   "source": [
    "\\begin{equation*}\n",
    "\\frac{T_{FP}}{T} = \\frac{IC_{FP} * CPI_{FP} * T_{Clock}}{IC * CPI * T_{Clock}}\n",
    "\\end{equation*}"
   ]
  },
  {
   "cell_type": "markdown",
   "metadata": {},
   "source": [
    "Podemos simplicar nuevamente el <b>tiempo de clock</b>:"
   ]
  },
  {
   "cell_type": "markdown",
   "metadata": {},
   "source": [
    "\\begin{equation*}\n",
    "\\frac{T_{FP}}{T} = \\frac{IC_{FP} * CPI_{FP}}{IC * CPI}\n",
    "\\end{equation*}"
   ]
  },
  {
   "cell_type": "markdown",
   "metadata": {},
   "source": [
    "Usemos los datos:"
   ]
  },
  {
   "cell_type": "markdown",
   "metadata": {},
   "source": [
    "\\begin{equation*}\n",
    "\\frac{T_{FP}}{T} = \\frac{0.45 * 4.85}{0.45 * 4.85 + 0.05 * 3 + 0.5 * 1.73} = \\frac{2.1825}{3.1975} = 0.68\n",
    "\\end{equation*}"
   ]
  },
  {
   "cell_type": "markdown",
   "metadata": {},
   "source": [
    "d) Calculemos el porcentaje de tiempo que llevan las instrucciones de <b>PFSQR</b>:"
   ]
  },
  {
   "cell_type": "markdown",
   "metadata": {},
   "source": [
    "\\begin{equation*}\n",
    "\\frac{T_{FP}}{T} = \\frac{IC_{FPSQR} * CPI_{FPSQR} * T_{Clock}}{IC * CPI * T_{Clock}}\n",
    "\\end{equation*}"
   ]
  },
  {
   "cell_type": "markdown",
   "metadata": {},
   "source": [
    "Podemos simplificar nuevamente el <b>tiempo de clock</b>:"
   ]
  },
  {
   "cell_type": "markdown",
   "metadata": {},
   "source": [
    "\\begin{equation*}\n",
    "\\frac{T_{FP}}{T} = \\frac{IC_{FPSQR} * CPI_{FPSQR}}{IC * CPI}\n",
    "\\end{equation*}"
   ]
  },
  {
   "cell_type": "markdown",
   "metadata": {},
   "source": [
    "Usemos los datos:"
   ]
  },
  {
   "cell_type": "markdown",
   "metadata": {},
   "source": [
    "\\begin{equation*}\n",
    "\\frac{T_{FP}}{T} = \\frac{0.05 * 3}{0.45 * 4.85 + 0.05 * 3 + 0.5 * 1.73} = \\frac{0.15}{3.1975} =0.047\n",
    "\\end{equation*}"
   ]
  },
  {
   "cell_type": "markdown",
   "metadata": {},
   "source": [
    "e) Calculemos el <b>Speed Up</b> de las operaciones de <b>FPSQR</b>."
   ]
  },
  {
   "cell_type": "markdown",
   "metadata": {},
   "source": [
    "\\begin{equation*}\n",
    "S_{UP} = \\frac{T_{Viejo}}{T_{Nuevo}}\n",
    "\\end{equation*}"
   ]
  },
  {
   "cell_type": "markdown",
   "metadata": {},
   "source": [
    "\\begin{equation*}\n",
    "S_{UP} = \\frac{IC_{FPSQR} * CPI_{FPSQR}^{Viejo} * T_{Clock}}{IC_{FPSQR} * CPI_{FPSQR}^{Nuevo} * T_{Clock}}\n",
    "\\end{equation*}"
   ]
  },
  {
   "cell_type": "markdown",
   "metadata": {},
   "source": [
    "Simplifiquemos el tiempo de clock y la cantidad de instrucciones:"
   ]
  },
  {
   "cell_type": "markdown",
   "metadata": {},
   "source": [
    "\\begin{equation*}\n",
    "S_{UP} = \\frac{CPI_{FPSQR}^{Viejo}}{CPI_{FPSQR}^{Nuevo}} = \\frac{20}{3} = 6.67\n",
    "\\end{equation*}"
   ]
  },
  {
   "cell_type": "code",
   "execution_count": null,
   "metadata": {},
   "outputs": [],
   "source": []
  }
 ],
 "metadata": {
  "kernelspec": {
   "display_name": "Python 3",
   "language": "python",
   "name": "python3"
  },
  "language_info": {
   "codemirror_mode": {
    "name": "ipython",
    "version": 3
   },
   "file_extension": ".py",
   "mimetype": "text/x-python",
   "name": "python",
   "nbconvert_exporter": "python",
   "pygments_lexer": "ipython3",
   "version": "3.7.0"
  }
 },
 "nbformat": 4,
 "nbformat_minor": 2
}
