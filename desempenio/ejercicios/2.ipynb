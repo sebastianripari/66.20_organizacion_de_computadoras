{
 "cells": [
  {
   "cell_type": "markdown",
   "metadata": {},
   "source": [
    "2) Considere la siguiente mezcla de instrucciones:"
   ]
  },
  {
   "cell_type": "markdown",
   "metadata": {},
   "source": [
    "<img src=\"imagenes/instrucciones.png\">"
   ]
  },
  {
   "cell_type": "markdown",
   "metadata": {},
   "source": [
    "Para <b>incrementar</b> el <b>desempenio</b>. Que seria mejor? <br>\n",
    "a) Reducir el CPI de los <b>branches tomados</b> a <b>1</b>. <br>\n",
    "b) Acelerar la velocidad del reloj por un factor 4/3 (=1.33)."
   ]
  },
  {
   "cell_type": "markdown",
   "metadata": {},
   "source": [
    "<hr>"
   ]
  },
  {
   "cell_type": "markdown",
   "metadata": {},
   "source": [
    "La forma de resolver esto es calculando el Speed Up del caso a) y del caso b) para luego comparar cual es mejor."
   ]
  },
  {
   "cell_type": "markdown",
   "metadata": {},
   "source": [
    "#### Formula para calcular el Speed Up:"
   ]
  },
  {
   "cell_type": "markdown",
   "metadata": {},
   "source": [
    "\\begin{equation*}\n",
    "\\large S_{UP} = \\frac{T_{Viejo}}{T_{Nuevo}}\n",
    "\\end{equation*}"
   ]
  },
  {
   "cell_type": "markdown",
   "metadata": {},
   "source": [
    "\\begin{equation*}\n",
    "\\large S_{UP}=\\frac{IC*CPI_{Viejo}*t}{IC*CPI_{Nuevo}*t}\n",
    "\\end{equation*}"
   ]
  },
  {
   "cell_type": "markdown",
   "metadata": {},
   "source": [
    "<b>a)</b> Asumiendo que se trata del mismo programa, podemos asumir que el IC es el mismo, osea la cantidad de instrucciones son las mismas. Ademas en el inciso a no se altera el tiempo de clock por lo tanto este es otro parametro que no cambia. Lo unico que cambia es el CPI asi que podemos simplificar lo demas. Quedando:"
   ]
  },
  {
   "cell_type": "markdown",
   "metadata": {},
   "source": [
    "\\begin{equation*}\n",
    "\\large S_{UP} = \\frac{CPI_{Viejo}}{CPI_{Nuevo}}\n",
    "\\end{equation*}"
   ]
  },
  {
   "cell_type": "markdown",
   "metadata": {},
   "source": [
    "\\begin{equation*}\n",
    "CPI_{Viejo} = 0.4 * 1 + 0.1 * 1 + 0.2 * 4 + 0.3 * 2 = 1.9\n",
    "\\end{equation*}\n",
    "\\begin{equation*}\n",
    "CPI_{Nuevo} = 0.4 * 1 + 0.1 * 1 + 0.2 * 1 + 0.3 * 2 = 1.3\n",
    "\\end{equation*}"
   ]
  },
  {
   "cell_type": "markdown",
   "metadata": {},
   "source": [
    "\\begin{equation*}\n",
    "S_{UP} = \\frac{1.9}{1.3} = 1.46\n",
    "\\end{equation*}"
   ]
  },
  {
   "cell_type": "markdown",
   "metadata": {},
   "source": [
    "<b>b)</b> Asumiendo que se trata del mismo programa, podemos asumir que el el IC es el mismo nuevamente. El CPI tampoco varia en este caso, por lo tanto lo unico que cambia es el tiempo de clock, nos dicen que este se acelera por lo tanto el tiempo de clock se reduce."
   ]
  },
  {
   "cell_type": "markdown",
   "metadata": {},
   "source": [
    "\\begin{equation*}\n",
    "S_{UP}=\\frac{IC*CPI*t_{Viejo}}{IC*CPI*t_{Nuevo}} = \\frac{t_{Viejo}}{t_{Nuevo}} = \\frac{t_{Viejo}}{\\frac{t_{Viejo}}{1.33}} = 1.33\n",
    "\\end{equation*}"
   ]
  },
  {
   "cell_type": "markdown",
   "metadata": {},
   "source": [
    "Viendo los dos Speed Up vemos que el el del punto <b>a</b> es mayor por lo tanto es mejor."
   ]
  }
 ],
 "metadata": {
  "kernelspec": {
   "display_name": "Python 3",
   "language": "python",
   "name": "python3"
  },
  "language_info": {
   "codemirror_mode": {
    "name": "ipython",
    "version": 3
   },
   "file_extension": ".py",
   "mimetype": "text/x-python",
   "name": "python",
   "nbconvert_exporter": "python",
   "pygments_lexer": "ipython3",
   "version": "3.7.0"
  }
 },
 "nbformat": 4,
 "nbformat_minor": 2
}
