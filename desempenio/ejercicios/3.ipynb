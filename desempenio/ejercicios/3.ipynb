{
 "cells": [
  {
   "cell_type": "markdown",
   "metadata": {},
   "source": [
    "3) Un conjunto de <b>benchmarks</b> representativo de la carga habitual de un modelo de procesador arroja una distribucion en el uso de instrucciones del siguiente tipo:"
   ]
  },
  {
   "cell_type": "markdown",
   "metadata": {},
   "source": [
    "<img src=\"imagenes/distribucion_instrucciones.png\">"
   ]
  },
  {
   "cell_type": "markdown",
   "metadata": {},
   "source": [
    "Donde las <b>instrucciones enteras</b> son 10 veces mas rapidas que las de <b>punto flotante</b>. Se propone una mejora en hardware de punto flotante de manera tal que las instrucciones de punto flotante logran una acceleracion de 2. Calcular la aceleracion global que se obtiene de aplicar dicha mejora. Aclare las hipotesis que utilice."
   ]
  },
  {
   "cell_type": "markdown",
   "metadata": {},
   "source": [
    "<hr>"
   ]
  },
  {
   "cell_type": "markdown",
   "metadata": {},
   "source": [
    "\\begin{equation*}\n",
    "\\large S_{UP} = \\frac{T_{Viejo}}{T_{Nuevo}} = \\frac{IC*CPI_{Viejo}*T}{IC*CPI_{Nuevo}*T}\n",
    "\\end{equation*}"
   ]
  },
  {
   "cell_type": "markdown",
   "metadata": {},
   "source": [
    "Como estamos trabajando sobre el mismo programa, tenemos las misma cantidad de instrucciones por lo tanto podemos simplificar <b>IC</b>."
   ]
  },
  {
   "cell_type": "markdown",
   "metadata": {},
   "source": [
    "Ademas tambien suponemos que el tiempo de clock no varia. Asi que tambien lo podemos simplificar."
   ]
  },
  {
   "cell_type": "markdown",
   "metadata": {},
   "source": [
    "Entonces nos queda:"
   ]
  },
  {
   "cell_type": "markdown",
   "metadata": {},
   "source": [
    "\\begin{equation*}\n",
    "\\large S_{UP} = \\frac{CPI_{Viejo}}{CPI_{Nuevo}}\n",
    "\\end{equation*}"
   ]
  },
  {
   "cell_type": "markdown",
   "metadata": {},
   "source": [
    "Nos dicen que las instrucciones de punto flotante tienen una acceleracion de 2, esto significa que se llevan a cabo en la mitad del tiempo. Expresamos esto:"
   ]
  },
  {
   "cell_type": "markdown",
   "metadata": {},
   "source": [
    "\\begin{equation*}\n",
    "S_{UP} = \\frac{0.81 * Ciclos_{Enteras} + 0.19 * Ciclos_{Punto Flotante}}{0.81 * Ciclos_{Enteras} + 0.19 * 0.5 * Ciclos_{Punto Flotante}}\n",
    "\\end{equation*}"
   ]
  },
  {
   "cell_type": "markdown",
   "metadata": {},
   "source": [
    "Luego, usamos que las instrucciones enteras son 10 veces mas rapidas que las de punto flotante. Esto es:"
   ]
  },
  {
   "cell_type": "markdown",
   "metadata": {},
   "source": [
    "\\begin{equation*}\n",
    "10 * Ciclos_{Enteras} = Ciclos_{PuntoFlotante}\n",
    "\\end{equation*}"
   ]
  },
  {
   "cell_type": "markdown",
   "metadata": {},
   "source": [
    "Reemplazo en la ecuacion de Speep Up y queda:"
   ]
  },
  {
   "cell_type": "markdown",
   "metadata": {},
   "source": [
    "\\begin{equation*}\n",
    "S_{UP} = \\frac{0.81 * Ciclos_{Enteras} + 0.19 * 10 * Ciclos_{Enteras}}{0.81 * Ciclos_{Enteras} + 0.19 * 0.5 * 10 * Ciclos_{Enteras}}\n",
    "\\end{equation*}"
   ]
  },
  {
   "cell_type": "markdown",
   "metadata": {},
   "source": [
    "Simplifico los ciclos de una instruccion entera:"
   ]
  },
  {
   "cell_type": "markdown",
   "metadata": {},
   "source": [
    "\\begin{equation*}\n",
    "S_{UP} = \\frac{0.81 + 0.19 * 10}{0.81 + 0.19 * 0.5 * 10} = \\frac{0.81 + 1.9}{0.81 + 0.95} = \\frac{2.71}{1.76} = 1.56\n",
    "\\end{equation*}"
   ]
  }
 ],
 "metadata": {
  "kernelspec": {
   "display_name": "Python 3",
   "language": "python",
   "name": "python3"
  },
  "language_info": {
   "codemirror_mode": {
    "name": "ipython",
    "version": 3
   },
   "file_extension": ".py",
   "mimetype": "text/x-python",
   "name": "python",
   "nbconvert_exporter": "python",
   "pygments_lexer": "ipython3",
   "version": "3.7.0"
  }
 },
 "nbformat": 4,
 "nbformat_minor": 2
}
