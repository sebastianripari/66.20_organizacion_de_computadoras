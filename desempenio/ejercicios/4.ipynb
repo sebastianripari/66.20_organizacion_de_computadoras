{
 "cells": [
  {
   "cell_type": "markdown",
   "metadata": {},
   "source": [
    "4) Suponer que se hicieron las siguiente mediciones para la ejecucion de un determinado <b>benchmark</b>: <br>\n",
    "Frecuencia de todas las operaciones de <b>FP</b> = 45% <br>\n",
    "<b>CPI</b> promedio de las operaciones <b>FP</b> = 4.85 <br>\n",
    "<b>CPI</b> promedio de otras instrucciones = 1.73 <br>\n",
    "Frecuencia de <b>FPSQR</b> = 5% <br>\n",
    "<b>CPI</b> de <b>FPSQR</b> = 20 <br>\n",
    "<br>\n",
    "Suponer que se intenta llevar el CPI de las operaciones FPSQR a 3. <br>\n",
    "<br>\n",
    "a) Calcular el porcentaje de tiempo en la maquina <b>no mejorada</b> en la ejecucion del programa trabaja en operaciones en <b>PF</b>. <br>\n",
    "b) Calcular el porcentaje de tiempo en la maquina <b>no mejorada</b> en la ejecucion del programa trabaja en operaciones de <b>FPSQR</b>. <br>\n",
    "c) Calcular el porcentaje de tiempo en la maquina <b>mejorada</b> en la ejecucion del programa trabaja en operaciones de <b>FP</b>. <br>\n",
    "d) Calcular el porcentaje de tiempo en la maquina <b>mejorada</b> en la ejecucion del programa trabaja en operaciones de <b>FPSQR</b>. <br>\n",
    "e) Calcular en cuanto se <b>aceleran</b> las opereaciones de <b>FPSQR</b>. <br>\n",
    "f) Calcular la <b>aceleracion</b> global obtenida. <br>\n",
    "<br>\n",
    "<b>Nota:</b> FP: Punto Flotante, FPSQR: Raiz Cuadrada en Punto Flotante."
   ]
  },
  {
   "cell_type": "markdown",
   "metadata": {},
   "source": [
    "<hr>"
   ]
  },
  {
   "cell_type": "markdown",
   "metadata": {},
   "source": [
    "a) Plantiemos el tiempo que le lleva ejecutar el <b>benchmark</b> a la maquina <b>sin mejorar</b>:"
   ]
  },
  {
   "cell_type": "markdown",
   "metadata": {},
   "source": [
    "\\begin{equation*}\n",
    "T = IC * CPI * T_{Clock}\n",
    "\\end{equation*}"
   ]
  },
  {
   "cell_type": "markdown",
   "metadata": {},
   "source": [
    "Ahora plantiemos el tiempo que le lleva ejecutar la parte de <b>punto flotante</b> a esta misma maquina."
   ]
  },
  {
   "cell_type": "markdown",
   "metadata": {},
   "source": [
    "\\begin{equation*}\n",
    "T_{FP} = IC_{FP} * CPI_{FP} * T_{Clock}\n",
    "\\end{equation*}"
   ]
  },
  {
   "cell_type": "markdown",
   "metadata": {},
   "source": [
    "Ahora calculemos el porcentaje de tiempo de <b>FP</b> sobre el <b>total</b>:"
   ]
  },
  {
   "cell_type": "markdown",
   "metadata": {},
   "source": [
    "\\begin{equation*}\n",
    "\\frac{T_{FP}}{T} = \\frac{IC_{FP} * CPI_{FP} * T_{Clock}}{IC * CPI * T_{Clock}}\n",
    "\\end{equation*}"
   ]
  },
  {
   "cell_type": "markdown",
   "metadata": {},
   "source": [
    "Simplificamos el tiempo de un clock:"
   ]
  },
  {
   "cell_type": "markdown",
   "metadata": {},
   "source": [
    "\\begin{equation*}\n",
    "\\frac{T_{FP}}{T} = \\frac{IC_{FP} * CPI_{FP}}{IC * CPI}\n",
    "\\end{equation*}"
   ]
  },
  {
   "cell_type": "markdown",
   "metadata": {},
   "source": [
    "Usando los datos:"
   ]
  },
  {
   "cell_type": "markdown",
   "metadata": {},
   "source": [
    "\\begin{equation*}\n",
    "\\frac{T_{FP}}{T} = \\frac{0.45 * 4.85}{0.45 * 4.85 + 0.05 * 20 + 0.5 * 1.73} = \\frac{2.1825}{4.0475} = 0.53\n",
    "\\end{equation*}"
   ]
  }
 ],
 "metadata": {
  "kernelspec": {
   "display_name": "Python 3",
   "language": "python",
   "name": "python3"
  },
  "language_info": {
   "codemirror_mode": {
    "name": "ipython",
    "version": 3
   },
   "file_extension": ".py",
   "mimetype": "text/x-python",
   "name": "python",
   "nbconvert_exporter": "python",
   "pygments_lexer": "ipython3",
   "version": "3.7.0"
  }
 },
 "nbformat": 4,
 "nbformat_minor": 2
}
