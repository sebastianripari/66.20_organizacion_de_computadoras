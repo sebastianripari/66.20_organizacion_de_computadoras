{
 "cells": [
  {
   "cell_type": "markdown",
   "metadata": {},
   "source": [
    "2) Se tiene una memoria cache de 8KBytes, asociativa por conjuntos de grado 2, bloque de 16 bytes y politica de reemplazo LRU.<br>"
   ]
  },
  {
   "cell_type": "markdown",
   "metadata": {},
   "source": [
    "A) Realice un diagrama en bloques detallado de la memoria cache (incluir el area de tags). <br>"
   ]
  },
  {
   "cell_type": "markdown",
   "metadata": {},
   "source": [
    "b) Dar las direcciones para cinco datos A,B,C,D,E de manera tal que accedidos en el orden dado por una CPU MIPS se cumpla lo siguiente:<br>\n",
    "1. El acceso a B es hit.\n",
    "2. C mapea en un conjunto distinto al correspondiente a A.\n",
    "3. El acceso a E es miss."
   ]
  },
  {
   "cell_type": "markdown",
   "metadata": {},
   "source": [
    "c) Indicar en el diagrama del punto a) el contenido final de la memoria cache (area de datos y area de tags).\n",
    "Las direcciones se deben dar en hexadecimal. No se pueden hacer hipotesis acerca del contenido previo de la cache. Justificar sus respuestas.<br>"
   ]
  },
  {
   "cell_type": "markdown",
   "metadata": {},
   "source": [
    "<hr>"
   ]
  },
  {
   "cell_type": "markdown",
   "metadata": {},
   "source": [
    "a)"
   ]
  },
  {
   "cell_type": "markdown",
   "metadata": {},
   "source": [
    "\\begin{equation}\n",
    "\\large Cache_{Size} = 8 kbytes\n",
    "\\large Block_{Size} = 16 bytes\n",
    "\\end{equation}"
   ]
  },
  {
   "cell_type": "markdown",
   "metadata": {},
   "source": [
    "Por lo tanto el offset que necesitamos:"
   ]
  },
  {
   "cell_type": "markdown",
   "metadata": {},
   "source": [
    "\\begin{equation}\n",
    "\\large Bits_{Offset} = log_2(Block_{Size}) = log_2(16) = 4 \n",
    "\\end{equation}"
   ]
  },
  {
   "cell_type": "markdown",
   "metadata": {},
   "source": [
    "Ahora calculemos cuantos bloques tiene esta memoria cache. Sabemos que tiene un tamanio de 8 kbytes y cada bloque tiene un tamanio de 16 bytes. Entonces:"
   ]
  },
  {
   "cell_type": "markdown",
   "metadata": {},
   "source": [
    "\\begin{equation}\n",
    "\\large N_{Bloques} = \\frac{Cache_{Size}}{Tamanio_{Bloque}} = \\frac{8 * 1024}{16} = 512\n",
    "\\end{equation}"
   ]
  },
  {
   "cell_type": "markdown",
   "metadata": {},
   "source": [
    "Ahora veamos cuantos bits necesitamos en la direccion para indicar el conjunto:"
   ]
  },
  {
   "cell_type": "markdown",
   "metadata": {},
   "source": [
    "\\begin{equation}\n",
    "\\large Bits_{Index} = log_2(N_{Bloques}) = log_2(512) = 9\n",
    "\\end{equation}"
   ]
  },
  {
   "cell_type": "markdown",
   "metadata": {},
   "source": [
    "Por lo tanto, los bits de tag:"
   ]
  },
  {
   "cell_type": "markdown",
   "metadata": {},
   "source": [
    "\\begin{equation}\n",
    "\\large Bits_{Tag} = 32 - Bits_{Offset} - Bits_{Index} = 32 - 4 - 9 = 19\n",
    "\\end{equation}"
   ]
  },
  {
   "cell_type": "markdown",
   "metadata": {},
   "source": [
    "<hr>"
   ]
  },
  {
   "cell_type": "markdown",
   "metadata": {},
   "source": [
    "b) Se acceden en orden a los siguientes datos: A,B,C,D,E. Queremos que se cumplan 3 cuestiones:"
   ]
  },
  {
   "cell_type": "markdown",
   "metadata": {},
   "source": [
    "- El acceso a B es Hit:"
   ]
  },
  {
   "cell_type": "markdown",
   "metadata": {},
   "source": [
    "Para que B sea Hit, tenemos que asegurar que se encuentre en el mismo bloque que A, asi cuando leyo A primero, se llevo a B a la cache por estar en el mismo bloque. Asi que definamos los primeras direcciones para que vivan dentro del mismo bloque:"
   ]
  },
  {
   "cell_type": "markdown",
   "metadata": {},
   "source": [
    "<b>A = 0 x 0000</b> <br>\n",
    "<b>B = 0 x 0004</b>"
   ]
  },
  {
   "cell_type": "markdown",
   "metadata": {},
   "source": [
    "Observar que estas dos direcciones tienen el mismo tag por lo tanto son el mismo bloque. Y ademas van a parar al mismo conjunto porque tienen el mismo index."
   ]
  },
  {
   "cell_type": "markdown",
   "metadata": {},
   "source": [
    "- C tiene que mapear a un conjunto distinto que A. Por lo tanto tenemos que modificar en la direccion los bits de index."
   ]
  },
  {
   "cell_type": "markdown",
   "metadata": {},
   "source": [
    "C = 0 x 0000 0000 | 0000 0000 | 0000 000<b>1</b> | 0000 0000 <br>\n",
    "<b>C = 0 x 0010</b>"
   ]
  },
  {
   "cell_type": "markdown",
   "metadata": {},
   "source": [
    "- El acceso a E tiene que ser Miss:"
   ]
  },
  {
   "cell_type": "markdown",
   "metadata": {},
   "source": [
    "Para que E sea un miss entonces por ejemplo podriamos hacer que E tenga en su direccion un tag diferente al de todos los anteriores datos:"
   ]
  },
  {
   "cell_type": "markdown",
   "metadata": {},
   "source": [
    "<b>D = 0 x 1000</b><br>\n",
    "<b>E = 0 x 2000</b>"
   ]
  }
 ],
 "metadata": {
  "kernelspec": {
   "display_name": "Python 3",
   "language": "python",
   "name": "python3"
  },
  "language_info": {
   "codemirror_mode": {
    "name": "ipython",
    "version": 3
   },
   "file_extension": ".py",
   "mimetype": "text/x-python",
   "name": "python",
   "nbconvert_exporter": "python",
   "pygments_lexer": "ipython3",
   "version": "3.6.4"
  }
 },
 "nbformat": 4,
 "nbformat_minor": 2
}
