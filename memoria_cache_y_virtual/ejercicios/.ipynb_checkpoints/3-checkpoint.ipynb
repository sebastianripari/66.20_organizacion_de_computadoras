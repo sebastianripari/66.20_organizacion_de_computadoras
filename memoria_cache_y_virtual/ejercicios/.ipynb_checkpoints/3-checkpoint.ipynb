{
 "cells": [
  {
   "cell_type": "markdown",
   "metadata": {},
   "source": [
    "3) Colocar en los casilleros de la siguiente tabla la cantidad de bytes accedidos para cada uno de los subsitemas correspondientes a cada columna de la mencionada tabla, durante el proceso de acceder a un dato en memoria solicitado por la CPU. Justificar su respuesta con un breve parrafo para cada fila. CPU MIPS R2000. El acceso es una escritura en memoria de una dato de 4 bytes. L1 es direccionado por direcciones virtuales, es write through con bloque de 64 bytes. L2 es write back con bloque de 64 bytes. Los marcos de pagina son de 4 Kbytes. Aclare su hipotesis."
   ]
  },
  {
   "cell_type": "markdown",
   "metadata": {},
   "source": [
    "Evento|Cache L1|Cache L2|Memoria Principal|TLB|Tabla de traduccion de paginas|Area de SWAP\n",
    "------|--------|--------|-----------------|---|------------------------------|------------\n",
    "Hit L1||||||\n",
    "Miss L1 y Hit L2||||||\n",
    "Falla de Pagina||||||"
   ]
  },
  {
   "cell_type": "markdown",
   "metadata": {},
   "source": [
    "<hr>"
   ]
  }
 ],
 "metadata": {
  "kernelspec": {
   "display_name": "Python 3",
   "language": "python",
   "name": "python3"
  },
  "language_info": {
   "codemirror_mode": {
    "name": "ipython",
    "version": 3
   },
   "file_extension": ".py",
   "mimetype": "text/x-python",
   "name": "python",
   "nbconvert_exporter": "python",
   "pygments_lexer": "ipython3",
   "version": "3.6.4"
  }
 },
 "nbformat": 4,
 "nbformat_minor": 2
}
