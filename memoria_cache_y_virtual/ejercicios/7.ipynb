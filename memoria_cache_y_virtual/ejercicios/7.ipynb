{
 "cells": [
  {
   "cell_type": "markdown",
   "metadata": {},
   "source": [
    "7) Se tiene una TLB de 8 entradas con politica de reemplazo LRU. Una aplicacion realiza la siguiente secuencia de referencias a paginas virtuales contiguas:"
   ]
  },
  {
   "cell_type": "markdown",
   "metadata": {},
   "source": [
    "P0,P1,P2,P3,P4,P5,P6,P7,P8,P9"
   ]
  },
  {
   "cell_type": "markdown",
   "metadata": {},
   "source": [
    "Dicha secuencia se repite en forma ciclica por un periodo muy largo de tiempo."
   ]
  },
  {
   "cell_type": "markdown",
   "metadata": {},
   "source": [
    "a) Calcular la tasa de desaciertos para el caso en que la TLB es de mapeo directo. "
   ]
  },
  {
   "cell_type": "markdown",
   "metadata": {},
   "source": [
    "b) Idem punto a) pero considerando que es asociativa de grado 2."
   ]
  },
  {
   "cell_type": "markdown",
   "metadata": {},
   "source": [
    "c) Idem punto a) pero considerando que es totalmente asociativa."
   ]
  },
  {
   "cell_type": "markdown",
   "metadata": {},
   "source": [
    "Justificar sus respuestas."
   ]
  },
  {
   "cell_type": "markdown",
   "metadata": {},
   "source": [
    "<hr>"
   ]
  },
  {
   "cell_type": "markdown",
   "metadata": {},
   "source": [
    "a) Al tener una TLB esta se guarda los numeros de pagina fisca para los numero de pagina virtuales que vamos usando, asi nos evitamos ir a buscar la pagina fisica a la tabla de paginas, que demora mas tiempo. Nos dicen que esta TLB tiene 8 entradas y vemos que la aplicacion realiza una secuencia de referencias a paginas virtuales, una secuencia de 10 paginas, por lo tanto existiran misses de TLB debido a que solo tiene 8 entradas."
   ]
  },
  {
   "cell_type": "markdown",
   "metadata": {},
   "source": [
    "c) Al ser una cache totalmente asociativa la cosa es asi:<br>\n",
    "Ciclo 1: Se leen las paginas quedando las ultimas 8 ya que usamos LRU. P2,P3,P4,P5,P6,P7,P8,P9. <br>\n",
    "Ciclo 2: <br>\n",
    "P0 miss, se carga en la TLB y queda P0,P3,P4,P5,P6,P7,P8,P9<br>\n",
    "P1 miss, se carga en la TLB y queda P0,P1,P4,P5,P6,P7,P8,P9<br>\n",
    "P2 miss, se carga en la TLB y queda P0,P1,P2,P5,P6,P7,P8,P9<br>\n",
    "Asi sucesivamente, siempre es miss. Por lo tanto en un ciclo la tasa de desacierto es del 100%."
   ]
  }
 ],
 "metadata": {
  "kernelspec": {
   "display_name": "Python 3",
   "language": "python",
   "name": "python3"
  },
  "language_info": {
   "codemirror_mode": {
    "name": "ipython",
    "version": 3
   },
   "file_extension": ".py",
   "mimetype": "text/x-python",
   "name": "python",
   "nbconvert_exporter": "python",
   "pygments_lexer": "ipython3",
   "version": "3.7.0"
  }
 },
 "nbformat": 4,
 "nbformat_minor": 2
}
