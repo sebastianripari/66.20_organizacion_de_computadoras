{
 "cells": [
  {
   "cell_type": "markdown",
   "metadata": {},
   "source": [
    "7) Se tiene una TLB de 8 entradas con politica de reemplazo LRU. Una aplicacion realiza la siguiente secuencia de referencias a paginas virtuales contiguas:"
   ]
  },
  {
   "cell_type": "markdown",
   "metadata": {},
   "source": [
    "P0,P1,P2,P3,P4,P5,P6,P7,P8,P9"
   ]
  },
  {
   "cell_type": "markdown",
   "metadata": {},
   "source": [
    "Dicha secuencia se repite en forma ciclica por un periodo muy largo de tiempo."
   ]
  },
  {
   "cell_type": "markdown",
   "metadata": {},
   "source": [
    "a) Calcular la tasa de desaciertos para el caso en que la TLB es de mapeo directo. "
   ]
  },
  {
   "cell_type": "markdown",
   "metadata": {},
   "source": [
    "b) Idem punto a) pero considerando que es asociativa de grado 2."
   ]
  },
  {
   "cell_type": "markdown",
   "metadata": {},
   "source": [
    "c) Idem punto a) pero considerando que es totalmente asociativa."
   ]
  },
  {
   "cell_type": "markdown",
   "metadata": {},
   "source": [
    "Justificar sus respuestas."
   ]
  },
  {
   "cell_type": "markdown",
   "metadata": {},
   "source": [
    "<hr>"
   ]
  },
  {
   "cell_type": "markdown",
   "metadata": {},
   "source": [
    "a) Al tener una TLB esta se guarda los numeros de pagina fisca para los numero de pagina virtuales que vamos usando, asi nos evitamos ir a buscar la pagina fisica a la tabla de paginas, que demora mas tiempo. Nos dicen que esta TLB tiene 8 entradas y vemos que la aplicacion realiza una secuencia de referencias a paginas virtuales, una secuencia de 10 paginas, por lo tanto existiran misses de TLB debido a que solo tiene 8 entradas."
   ]
  },
  {
   "cell_type": "markdown",
   "metadata": {},
   "source": [
    "Como el <b>mapeo es directo</b> entonces la cosa es asi:"
   ]
  },
  {
   "cell_type": "markdown",
   "metadata": {},
   "source": [
    "Ciclo 1:<br>\n",
    "<br>\n",
    "<b>TLB = VACIO|VACIO|VACIO|VACIO|VACIO|VACIO|VACIO|VACIO</b> <br>\n",
    "P0: 0 % 8 = 0 | MISS<br>\n",
    "<b>TLB = P0|VACIO|VACIO|VACIO|VACIO|VACIO|VACIO|VACIO</b> <br>\n",
    "P1: 1 % 8 = 1 | MISS<br>\n",
    "<b>TLB = P0|P1|VACIO|VACIO|VACIO|VACIO|VACIO|VACIO</b><br>\n",
    "P2: 2 % 8 = 2 | MISS<br>\n",
    "<b>TLB = P0|P1|P2|VACIO|VACIO|VACIO|VACIO|VACIO</b> <br>\n",
    "P3: 3 % 8 = 3 | MISS<br>\n",
    "<b>TLB = P0|P1|P2|P3|VACIO|VACIO|VACIO|VACIO</b> <br>\n",
    "P4: 4 % 8 = 4 | MISS<br>\n",
    "<b>TLB = P0|P1|P2|P3|P4|VACIO|VACIO|VACIO</b> <br>\n",
    "P5: 5 % 8 = 5 | MISS<br>\n",
    "<b>TLB = P0|P1|P2|P3|P4|P5|VACIO|VACIO</b> <br>\n",
    "P6: 6 % 8 = 6 | MISS<br>\n",
    "<b>TLB = P0|P1|P2|P3|P4|P5|P6|VACIO</b> <br>\n",
    "P7: 7 % 8 = 7 | MISS<br>\n",
    "<b>TLB = P0|P1|P2|P3|P4|P5|P6|P7</b> <br>\n",
    "P8: 8 % 8 = 0 | MISS<br>\n",
    "<b>TLB = P8|P9|P2|P3|P4|P5|P6|P7</b> <br>\n",
    "P9: 9 % 8 = 1 | MISS<br>\n",
    "Ciclo 2:<br>\n",
    "P0: 0 % 8 = 0\n",
    "P1: 0\n",
    "<br>\n",
    "<br>\n",
    "Ciclo 2:<br>\n",
    "<br>\n",
    "P0: 0 % 8 = 0 | MISS<br>\n",
    "<b>TLB = P0|P9|P2|P3|P4|P5|P6|P7</b><br>\n",
    "P1: 1 % 8 = 1 | MISS<br>\n",
    "<b>TLB = P0|P1|P2|P3|P4|P5|P6|P7</b><br>\n",
    "P2: 2 % 8 = 2 | HIT<br>\n",
    "<b>TLB = P0|P1|P2|P3|P4|P5|P6|P7</b><br>\n",
    "P3: 3 % 8 = 3 | HIT<br>\n",
    "<b>TLB = P0|P1|P2|P3|P4|P5|P6|P7</b><br>\n",
    "P4: 4 % 8 = 4 | HIT<br>\n",
    "<b>TLB = P0|P1|P2|P3|P4|P5|P6|P7</b><br>\n",
    "P5: 5 % 8 = 5 | HIT<br>\n",
    "<b>TLB = P0|P1|P2|P3|P4|P5|P6|P7</b><br>\n",
    "P6: 6 % 8 = 6 | HIT<br>\n",
    "<b>TLB = P0|P1|P2|P3|P4|P5|P6|P7</b><br>\n",
    "P7: 7 % 8 = 7 | HIT<br>\n",
    "<b>TLB = P0|P1|P2|P3|P4|P5|P6|P7</b><br>\n",
    "P8: 8 % 8 = 0 | MISS<br>\n",
    "<b>TLB = P8|P1|P2|P3|P4|P5|P6|P7</b><br>\n",
    "P9: 9 % 8 = 1 | MISS<br>\n",
    "<b>TLB = P8|P9|P2|P3|P4|P5|P6|P7</b><br>\n",
    "<br>\n",
    "Ciclo 3:<br>\n",
    "<br>\n",
    "Observamos que la TLB quedo:<br>\n",
    "<b>TLB = P8|P9|P2|P3|P4|P5|P6|P7</b><br>\n",
    "<br>\n",
    "Igual que como habia quedado en el final del ciclo anterior por lo tanto volvera a pasar lo mismo. De 10 accesos son 6 HIT y 4 MISS. Por lo tanto la <b>tasa de desaciertos es del 40%</b>."
   ]
  },
  {
   "cell_type": "markdown",
   "metadata": {},
   "source": [
    "b) Ahora habla de una cache de grado 2, esto significa lo mismo que dos vias, es decir 2 bloques por conjunto. Por lo tanto ahora tenemos 8 divido 2 conjuntos, es decir tenemos 4 conjuntos. Asi que cada dato puede ir a parar a uno de estos 4 conjuntos. Por lo tanto el mapeo es X % 4."
   ]
  },
  {
   "cell_type": "markdown",
   "metadata": {},
   "source": [
    "Ciclo 1:<br>\n",
    "<br>\n",
    "<b>TLB = VACIO VACIO | VACIO VACIO | VACIO VACIO | VACIO VACIO</b> <br>\n",
    "P0: 0 % 4 = 0 | MISS<br>\n",
    "<b>TLB = P0 VACIO | VACIO VACIO | VACIO VACIO | VACIO VACIO</b> <br>\n",
    "P1: 1 % 4 = 1 | MISS<br>\n",
    "<b>TLB = P0 VACIO | P1 VACIO | VACIO VACIO | VACIO VACIO</b> <br>\n",
    "P2: 2 % 4 = 2 | MISS<br>\n",
    "<b>TLB = P0 VACIO | P1 VACIO | P2 VACIO | VACIO VACIO</b> <br>\n",
    "P3: 3 % 4 = 3 | MISS<br>\n",
    "<b>TLB = P0 VACIO | P1 VACIO | P2 VACIO | P3 VACIO</b> <br>\n",
    "P4: 4 % 4 = 0 | MISS<br>\n",
    "<b>TLB = P0 P4 | P1 VACIO | P2 VACIO | P3 VACIO</b> <br>\n",
    "P5: 5 % 4 = 1 | MISS<br>\n",
    "<b>TLB = P0 P4 | P1 P5 | P2 VACIO | P3 VACIO</b> <br>\n",
    "P6: 6 % 4 = 2 | MISS<br>\n",
    "<b>TLB = P0 P4 | P1 P5 | P2 P6 | P3 VACIO</b> <br>\n",
    "P7: 7 % 4 = 3 | MISS<br>\n",
    "<b>TLB = P0 P4 | P1 P5 | P2 P6 | P3 P7</b> <br>\n",
    "P8: 8 % 4 = 0 | MISS<br>\n",
    "<b>TLB = P8 P4 | P1 P5 | P2 P6 | P3 P7</b> <br>\n",
    "P9: 9 % 4 = 1 | MISS<br>\n",
    "<b>TLB = P8 P4 | P9 P5 | P2 P6 | P3 P7</b> <br>\n",
    "\n",
    "<br>\n",
    "Ciclo 2:<br>\n",
    "<br>\n",
    "<b>TLB = P8 P4 | P9 P5 | P2 P6 | P3 P7</b> <br>"
   ]
  },
  {
   "cell_type": "markdown",
   "metadata": {},
   "source": [
    "c) Al ser una cache totalmente asociativa la cosa es asi:<br>\n",
    "Ciclo 1: Se leen las paginas quedando las ultimas 8 ya que usamos LRU. P2,P3,P4,P5,P6,P7,P8,P9. <br>\n",
    "Ciclo 2: <br>\n",
    "P0 miss, se carga en la TLB y queda P0,P3,P4,P5,P6,P7,P8,P9<br>\n",
    "P1 miss, se carga en la TLB y queda P0,P1,P4,P5,P6,P7,P8,P9<br>\n",
    "P2 miss, se carga en la TLB y queda P0,P1,P2,P5,P6,P7,P8,P9<br>\n",
    "Asi sucesivamente, siempre es miss. Por lo tanto en un ciclo la tasa de desacierto es del 100%."
   ]
  }
 ],
 "metadata": {
  "kernelspec": {
   "display_name": "Python 3",
   "language": "python",
   "name": "python3"
  },
  "language_info": {
   "codemirror_mode": {
    "name": "ipython",
    "version": 3
   },
   "file_extension": ".py",
   "mimetype": "text/x-python",
   "name": "python",
   "nbconvert_exporter": "python",
   "pygments_lexer": "ipython3",
   "version": "3.7.0"
  }
 },
 "nbformat": 4,
 "nbformat_minor": 2
}
