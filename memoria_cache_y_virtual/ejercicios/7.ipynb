{
 "cells": [
  {
   "cell_type": "markdown",
   "metadata": {},
   "source": [
    "7) Se tiene una TLB de 8 entradas con politica de reemplazo LRU. Una aplicacion realiza la siguiente secuencia de referencias a paginas virtuales contiguas:"
   ]
  },
  {
   "cell_type": "markdown",
   "metadata": {},
   "source": [
    "P0,P1,P2,P3,P4,P5,P6,P7,P8,P9"
   ]
  },
  {
   "cell_type": "markdown",
   "metadata": {},
   "source": [
    "Dicha secuencia se repite en forma ciclica por un periodo muy largo de tiempo."
   ]
  },
  {
   "cell_type": "markdown",
   "metadata": {},
   "source": [
    "a) Calcular la tasa de desaciertos para el caso en que la TLB es de mapeo directo. "
   ]
  },
  {
   "cell_type": "markdown",
   "metadata": {},
   "source": [
    "b) Idem punto a) pero considerando que es asociativa de grado 2."
   ]
  },
  {
   "cell_type": "markdown",
   "metadata": {},
   "source": [
    "c) Idem punto a) pero considerando que es totalmente asociativa."
   ]
  },
  {
   "cell_type": "markdown",
   "metadata": {},
   "source": [
    "Justificar sus respuestas."
   ]
  },
  {
   "cell_type": "markdown",
   "metadata": {},
   "source": [
    "<hr>"
   ]
  }
 ],
 "metadata": {
  "kernelspec": {
   "display_name": "Python 3",
   "language": "python",
   "name": "python3"
  },
  "language_info": {
   "codemirror_mode": {
    "name": "ipython",
    "version": 3
   },
   "file_extension": ".py",
   "mimetype": "text/x-python",
   "name": "python",
   "nbconvert_exporter": "python",
   "pygments_lexer": "ipython3",
   "version": "3.7.0"
  }
 },
 "nbformat": 4,
 "nbformat_minor": 2
}
