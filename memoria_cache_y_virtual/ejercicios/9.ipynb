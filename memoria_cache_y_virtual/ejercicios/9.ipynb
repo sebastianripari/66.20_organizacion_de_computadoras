{
 "cells": [
  {
   "cell_type": "markdown",
   "metadata": {},
   "source": [
    "9) Calcule la cantidad de desaciertos para cada uno de los tipos dados por el modelo de las \"3C\" para la siguiente secuencia de referencias a memoria producida por un microprocesador MIPS:"
   ]
  },
  {
   "cell_type": "markdown",
   "metadata": {},
   "source": [
    "1. 0x00000000 <br>\n",
    "2. 0x00000004 <br>\n",
    "3. 0x00000008 <br>\n",
    "4. 0xf0000000 <br>\n",
    "5. 0xf0000010 <br>\n",
    "6. 0xf0000020 <br>\n",
    "7. 0xf000001c <br>\n",
    "8. 0xfff00000 <br>\n",
    "9. 0x0000000c <br>\n",
    "10. 0x00000100 <br>"
   ]
  },
  {
   "cell_type": "markdown",
   "metadata": {},
   "source": [
    "Datos:\n",
    "- Memoria Cache: \n",
    " - Asociativa por conjuntos de 2 vias.\n",
    " - 4 bloques de 16 bytes."
   ]
  },
  {
   "cell_type": "markdown",
   "metadata": {},
   "source": [
    "Se debe suponer que ninguna de las referencias esta contenida en la cache al momento del comienzo de la secuencia."
   ]
  },
  {
   "cell_type": "markdown",
   "metadata": {},
   "source": [
    "<hr>"
   ]
  },
  {
   "cell_type": "markdown",
   "metadata": {},
   "source": [
    "\\begin{equation}\n",
    "\\large Block_{Size} = 16\n",
    "\\end{equation}"
   ]
  },
  {
   "cell_type": "markdown",
   "metadata": {},
   "source": [
    "Por lo tanto la cantidad de bits del <b>offset</b> es:"
   ]
  },
  {
   "cell_type": "markdown",
   "metadata": {},
   "source": [
    "\\begin{equation}\n",
    "\\large Bits_{Offset} = log_2(16) = 4\n",
    "\\end{equation}"
   ]
  },
  {
   "cell_type": "markdown",
   "metadata": {},
   "source": [
    "Ahora calculemos cuantos conjuntos tenemos:"
   ]
  },
  {
   "cell_type": "markdown",
   "metadata": {},
   "source": [
    "\\begin{equation}\n",
    "\\large N_{Sets} = \\frac{Cache_{Size}}{2 * Block_{Size}} = \\frac{4 * 16}{2 * 16} = 2\n",
    "\\end{equation}"
   ]
  },
  {
   "cell_type": "markdown",
   "metadata": {},
   "source": [
    "Por lo tanto solo necesitamos 1 bit de <b>index</b>:"
   ]
  },
  {
   "cell_type": "markdown",
   "metadata": {},
   "source": [
    "\\begin{equation}\n",
    "\\large Bits_{Index} = log_2(N_{Sets}) = log_2(2) = 1\n",
    "\\end{equation}"
   ]
  },
  {
   "cell_type": "markdown",
   "metadata": {},
   "source": [
    "Asi que:"
   ]
  },
  {
   "cell_type": "markdown",
   "metadata": {},
   "source": [
    "\\begin{equation}\n",
    "\\large Bits_{Tag} = 32 - Bits_{Index} - Bits_{Offset} = 32 - 1 - 4 = 27\n",
    "\\end{equation}"
   ]
  },
  {
   "cell_type": "markdown",
   "metadata": {},
   "source": [
    "Representacion de la memoria cache al inicio:"
   ]
  },
  {
   "cell_type": "markdown",
   "metadata": {},
   "source": [
    "<b>Cache = VACIO VACIO | VACIO VACIO</b>"
   ]
  },
  {
   "cell_type": "markdown",
   "metadata": {},
   "source": [
    "<hr>"
   ]
  },
  {
   "cell_type": "markdown",
   "metadata": {},
   "source": [
    "1. 0x00000000  | Offset = 0, Index = 0, Tag = 0<br>\n",
    "2. 0x00000004  | Offset = 4, Index = 0, Tag = 0<br>\n",
    "3. 0x00000008  | Offset = 8, Index = 0, Tag = 0<br>\n",
    "4. 0xf0000000  | Offset = 0, Index = 0, Tag = x<br>\n",
    "5. 0xf0000010  | Offset = 0, Index = 1, Tag = x<br>\n",
    "6. 0xf0000020  | Offset = 0, Index = 2, Tag = x<br>\n",
    "7. 0xf000001c  | Offset = 12,Index = 1, Tag = x<br>\n",
    "8. 0xfff00000  | Offset = 0, Index = 0, Tag = y<br>\n",
    "9. 0x0000000c  | Offset = 12,Index = 0, Tag = 0<br>\n",
    "10. 0x00000100 | Offset = 0, Index = 0, Tag = z<br>"
   ]
  },
  {
   "cell_type": "markdown",
   "metadata": {},
   "source": [
    "<b>Cache = VACIO VACIO | VACIO VACIO</b>\n",
    "1. 0x00000000  | Offset = 0, Index = 0, Tag = 0<br>\n",
    "<b>Cache = 0 VACIO | VACIO VACIO</b> | MISS Compulsivo<br>\n",
    "2. 0x00000004 | Offset = 4, Index = 0, Tag = 0<br>\n",
    "<b>Cache = 0 VACIO | VACIO VACIO</b> | HIT<br>\n",
    "3. 0x00000008 | Offset = 8, Index = 0, Tag = 0<br>\n",
    "<b>Cache = 0 VACIO | VACIO VACIO</b> | HIT<br>\n",
    "4. 0xf0000000 | Offset = 0, Index = 0, Tag = x<br>\n",
    "<b>Cache = 0 X | VACIO VACIO</b> | MISS Compulsivo<br>\n",
    "5. 0xf0000010 | Offset = 0, Index = 1, Tag = x<br>\n",
    "<b>Cache = 0 X | X VACIO</b> | MISS Compulsivo<br>\n",
    "6. 0xf0000020 | Offset = 0, Index = 2, Tag = x<br>"
   ]
  }
 ],
 "metadata": {
  "kernelspec": {
   "display_name": "Python 3",
   "language": "python",
   "name": "python3"
  },
  "language_info": {
   "codemirror_mode": {
    "name": "ipython",
    "version": 3
   },
   "file_extension": ".py",
   "mimetype": "text/x-python",
   "name": "python",
   "nbconvert_exporter": "python",
   "pygments_lexer": "ipython3",
   "version": "3.6.4"
  }
 },
 "nbformat": 4,
 "nbformat_minor": 2
}
