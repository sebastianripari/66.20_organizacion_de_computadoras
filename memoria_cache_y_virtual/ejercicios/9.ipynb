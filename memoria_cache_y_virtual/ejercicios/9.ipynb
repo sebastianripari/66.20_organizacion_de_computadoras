{
 "cells": [
  {
   "cell_type": "markdown",
   "metadata": {},
   "source": [
    "9) Calcule la cantidad de desaciertos para cada uno de los tipos dados por el modelo de las \"3C\" para la siguiente secuencia de referencias a memoria producida por un microprocesador MIPS:"
   ]
  },
  {
   "cell_type": "markdown",
   "metadata": {},
   "source": [
    "1. 0x00000000 <br>\n",
    "2. 0x00000004 <br>\n",
    "3. 0x00000008 <br>\n",
    "4. 0xf0000000 <br>\n",
    "5. 0xf0000010 <br>\n",
    "6. 0xf0000020 <br>\n",
    "7. 0xf000001c <br>\n",
    "8. 0xfff00000 <br>\n",
    "9. 0x0000000c <br>\n",
    "10. 0x00000100 <br>"
   ]
  },
  {
   "cell_type": "markdown",
   "metadata": {},
   "source": [
    "Datos:\n",
    "- Memoria Cache: \n",
    " - Asociativa por conjuntos de 2 vias.\n",
    " - 4 bloques de 16 bytes."
   ]
  },
  {
   "cell_type": "markdown",
   "metadata": {},
   "source": [
    "Se debe suponer que ninguna de las referencias esta contenida en la cache al momento del comienzo de la secuencia."
   ]
  },
  {
   "cell_type": "markdown",
   "metadata": {},
   "source": [
    "<hr>"
   ]
  }
 ],
 "metadata": {
  "kernelspec": {
   "display_name": "Python 3",
   "language": "python",
   "name": "python3"
  },
  "language_info": {
   "codemirror_mode": {
    "name": "ipython",
    "version": 3
   },
   "file_extension": ".py",
   "mimetype": "text/x-python",
   "name": "python",
   "nbconvert_exporter": "python",
   "pygments_lexer": "ipython3",
   "version": "3.7.0"
  }
 },
 "nbformat": 4,
 "nbformat_minor": 2
}
