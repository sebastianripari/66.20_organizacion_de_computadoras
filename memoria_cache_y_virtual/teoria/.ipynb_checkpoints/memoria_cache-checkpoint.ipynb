{
 "cells": [
  {
   "cell_type": "markdown",
   "metadata": {},
   "source": [
    "# Memoria Cache"
   ]
  },
  {
   "cell_type": "markdown",
   "metadata": {},
   "source": [
    "Esta memoria fue creada para aumentar la velocidad de acceso a los datos. Esta memoria es mucho mas rapida que la memoria ram, pero es mucho mas pequenia. Por lo tanto solo algunas secciones de la memoria ram estara en la memoria cache, para que el procesador acceda a ellas de forma mas rapida. La cuestion es que sectores, osea que datos de la memoria ram estaran en la memoria cache. Veremos que lo que se trata es que esten los datos mas usados, asi minimizamos los accesos a la memoria ram."
   ]
  },
  {
   "cell_type": "markdown",
   "metadata": {},
   "source": [
    "<img src=\"imagenes/memoria_cache.png\">"
   ]
  },
  {
   "cell_type": "markdown",
   "metadata": {},
   "source": [
    "## Politicas de Escritura (Writing Policies)"
   ]
  },
  {
   "cell_type": "markdown",
   "metadata": {},
   "source": [
    "Cuando el procesador lleva un bloque de memoria ram a memoria cache. Cuando este bloque cambia, osea cuando los datos de este bloque cambian hay dos posturas:\n",
    "- <b>Write-through</b>: En ESP <b>Escritura Directa</b>, lo que plantea es lo mas simple, cuando cambia el bloque en memoria cache, que cambie tambien en memoria ram, es decir se escribe en ambos lados.\n",
    "- <b>Write-back</b>: En ESP <b>Escritura Demorada</b>, lo que plantea es que solo se escriba en memoria cache, y solo se lleven los cambios a memoria ram, cuando este bloque valla a ser reemplazado en la memoria cache."
   ]
  },
  {
   "cell_type": "markdown",
   "metadata": {},
   "source": [
    "## Tipos de fallos"
   ]
  },
  {
   "cell_type": "markdown",
   "metadata": {},
   "source": [
    "Cuando vamos a buscar un bloque a la cache este bloque puede no estar. Debido a 3 tipos de causas. Segun la causa a el fallo se denomina de la siguiente manera:\n",
    "- <b>Forfozos (Compulsory o Cold)</b>: En el primer acceso a un bloque éste no se encuentra en la caché (fallos de arranque en frío o de primera referencia).\n",
    "- <b>Capacidad (Capacity)</b>: La caché no puede contener todos los bloques necesarios durante la ejecución de un programa.\n",
    "- <b>Conflicto (Conflict)</b>: Diferentes bloques deben ir necesariamente al mismo conjunto o línea cuando la estrategia es asociativa por conjuntos o de correspondencia directa (fallos de colisión)."
   ]
  },
  {
   "cell_type": "markdown",
   "metadata": {},
   "source": [
    "A esta clasificacion de fallos se la conoce como clasificacion <b>3C</b>."
   ]
  }
 ],
 "metadata": {
  "kernelspec": {
   "display_name": "Python 3",
   "language": "python",
   "name": "python3"
  },
  "language_info": {
   "codemirror_mode": {
    "name": "ipython",
    "version": 3
   },
   "file_extension": ".py",
   "mimetype": "text/x-python",
   "name": "python",
   "nbconvert_exporter": "python",
   "pygments_lexer": "ipython3",
   "version": "3.6.4"
  }
 },
 "nbformat": 4,
 "nbformat_minor": 2
}
