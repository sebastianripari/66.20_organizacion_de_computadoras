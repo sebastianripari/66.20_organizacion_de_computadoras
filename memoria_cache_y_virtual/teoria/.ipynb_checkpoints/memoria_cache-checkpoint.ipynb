{
 "cells": [
  {
   "cell_type": "markdown",
   "metadata": {},
   "source": [
    "# Memoria Cache"
   ]
  },
  {
   "cell_type": "markdown",
   "metadata": {},
   "source": [
    "Esta memoria fue creada para aumentar la velocidad de acceso a los datos. Esta memoria es mucho mas rapida que la memoria ram, pero es mucho mas pequenia. Por lo tanto solo algunas secciones de la memoria ram estara en la memoria cache, para que el procesador acceda a ellas de forma mas rapida. La cuestion es que sectores, osea que datos de la memoria ram estaran en la memoria cache. Veremos que lo que se trata es que esten los datos mas usados, asi minimizamos los accesos a la memoria ram."
   ]
  },
  {
   "cell_type": "markdown",
   "metadata": {},
   "source": [
    "<img src=\"imagenes/memoria_cache.png\">"
   ]
  }
 ],
 "metadata": {
  "kernelspec": {
   "display_name": "Python 3",
   "language": "python",
   "name": "python3"
  },
  "language_info": {
   "codemirror_mode": {
    "name": "ipython",
    "version": 3
   },
   "file_extension": ".py",
   "mimetype": "text/x-python",
   "name": "python",
   "nbconvert_exporter": "python",
   "pygments_lexer": "ipython3",
   "version": "3.6.4"
  }
 },
 "nbformat": 4,
 "nbformat_minor": 2
}
