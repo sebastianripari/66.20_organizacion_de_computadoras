{
 "cells": [
  {
   "cell_type": "markdown",
   "metadata": {},
   "source": [
    "# Memoria Virtual"
   ]
  },
  {
   "cell_type": "markdown",
   "metadata": {},
   "source": [
    "Es una memoria que a diferencia de la <b>memoria ram</b> no es un componente de hardware. Esta vive en el <b>disco rigido</b> puede ser de diversos tamanios y suele ser mucho mas grande que la memoria ram. "
   ]
  },
  {
   "cell_type": "markdown",
   "metadata": {},
   "source": [
    "Esta funciona en conjunto con la memoria ram, cuando memoria ram ya no puede almacenar todos los programas que estamos corriendo, manda a la memoria virtual porciones de memoria de los programas que estamos corriendo pero que prablemente no estamos usando. De esta manera nosotros podemos abrir programas que en su conjunto superen la capacidad de nuestra memoria ram, sino fuera por esto. Estariamos limitados al espacio que posee nuestra ram."
   ]
  },
  {
   "cell_type": "markdown",
   "metadata": {},
   "source": [
    "En la siguiente figura se representa el mecanismo de traduccion de <b>direcciones virtuales</b> a <b>direcciones fisicas</b>."
   ]
  },
  {
   "cell_type": "markdown",
   "metadata": {},
   "source": [
    "<img src=\"direccion_virtual_a_direccion_fisica.png\">"
   ]
  },
  {
   "cell_type": "markdown",
   "metadata": {},
   "source": [
    "Como se ilustra en la imagen los programas trabajan con <b>direcciones virtuales (DV)</b> que estas son traducidas a <b>direcciones fisicas (DF)</b>. Una direccion virtual esta compuesta por el <b>numero de pagina virtual (NPV)</b> y un <b>desplazamiento de pagina (DP)</b>. Con el <b>NPV</b> sumado a un <b>Registro Base de la Tabla de Paginas</b> armamos la entrada a la tabla para ver si existe en ella. Si existe entonces la tabla nos devuelve el <b>numero de pagina fisica</b> y concatenandole el <b>desplazamiento de pagina</b> tenemos la <b>direccion fisica</b> totalmente armada. Asi que podemos ir a la memoria fisica y recuperar el dato. En el caso de que no exista la entrada en la tabla de paginas significa que la pagina no esta en memoria fisica, sino que se encuentra en disco, en este caso se procedera a llevar la pagina a memoria fisica. "
   ]
  },
  {
   "cell_type": "markdown",
   "metadata": {},
   "source": [
    "<hr>"
   ]
  },
  {
   "cell_type": "markdown",
   "metadata": {},
   "source": [
    "### Analisis de Bits"
   ]
  },
  {
   "cell_type": "markdown",
   "metadata": {},
   "source": [
    "#### Direccion Virtual"
   ]
  },
  {
   "cell_type": "markdown",
   "metadata": {},
   "source": [
    "Numero de Bits(DV) = Numero de Bits(NPV) + Numero de Bits(DP)"
   ]
  },
  {
   "cell_type": "markdown",
   "metadata": {},
   "source": [
    "La cantidad de bits del numero de la pagina virtual lo determina el numero de paginas virtuales: $log_2$ N de paginas virtuales"
   ]
  },
  {
   "cell_type": "markdown",
   "metadata": {},
   "source": [
    "La cantidad de bits del desplazamiento de pagina lo determina el tamanio de una pagina: $log_2$ Tamanio de una pagina"
   ]
  },
  {
   "cell_type": "markdown",
   "metadata": {},
   "source": [
    "#### Direccion Fisica"
   ]
  },
  {
   "cell_type": "markdown",
   "metadata": {},
   "source": [
    "Numero de Bits(DF) = Numero de Bits(NPF) + Numero de Bits(DP)"
   ]
  },
  {
   "cell_type": "markdown",
   "metadata": {},
   "source": [
    "La cantidad de bits del numero de la pagina fisica lo determina el numero de paginas fisicas: $log_2$ N de paginas fisicas"
   ]
  },
  {
   "cell_type": "markdown",
   "metadata": {},
   "source": [
    "La cantidad de bits del desplazamiento de pagina lo determina el tamanio de una pagina: $log_2$ Tamanio de una pagina"
   ]
  },
  {
   "cell_type": "markdown",
   "metadata": {},
   "source": [
    "<hr>"
   ]
  },
  {
   "cell_type": "markdown",
   "metadata": {},
   "source": [
    "Como dijimos anteriormente la direccion virtual, esta compuesta de un NPV, con este vamos a la <b>tabla de paginas</b>. Algo para destacar es que la tabla de paginas tiene tantas entradas como numeros de paginas virtuales existan, y el numero de la pagina virtual coincide con la posicion en la tabla de donde se encuentra su traduccion.  Cada entrada posee en su primer campo unos <b>bits de control</b> que por ahora solo veremos el bit <b>P</b> que es el de presencia, este indica si la pagina buscada esta en <b>MF</b> o en <b>Disco</b>. Si el bit esta en 1 significa que la pagina esta en MF y por lo tanto el segundo campo indicara la <b>DF</b> en cambio si el bit esta en 0 significa que esta en disco y en el segundo campo indica la direccion en disco."
   ]
  },
  {
   "cell_type": "markdown",
   "metadata": {},
   "source": [
    "Otra cosa a mencionar es que como pueden existir varios programas abiertos en memoria virtual, existiran una tabla de paginas por cada programa abierto. Es por eso que para acceder a cada tabla de pagina se usa un registro base asociado a cada programa."
   ]
  },
  {
   "cell_type": "markdown",
   "metadata": {},
   "source": [
    "Cuando se va a buscar una pagina y esta encuentra, se produce lo que se denomina <b>acierto de pagina</b> en cambio cuando no esta se produce lo que se llama <b>fallo de pagina</b>. En este ultimo caso la pagina se la agarra del disco y se la lleva a MF."
   ]
  },
  {
   "cell_type": "markdown",
   "metadata": {},
   "source": [
    "# Memoria Virtual Paginada"
   ]
  },
  {
   "cell_type": "markdown",
   "metadata": {},
   "source": [
    "El mecanismo de traduccion de DV a DF que acabamos de describir corresponde a un sistema de <b>memoria virtual paginada</b>. En este el espacio virtual y fisico se divide en paginas de igual tamanio. Veremos en el apartado siguiente otra alternativa en la que la MV se divide en <b>segmentos</b> de longitud variable, dando lugar a la <b>memoria virtual segmentada</b>."
   ]
  },
  {
   "cell_type": "markdown",
   "metadata": {},
   "source": [
    "Las entradas de la TP de una MV paginada, ademas del NPF contiene unos bits de control, de los que hemos mencionado el bit de presencia P."
   ]
  },
  {
   "cell_type": "markdown",
   "metadata": {},
   "source": [
    "Como se muestra en la siguiente figura, existen otos bits que controlan los <b>derechos de acceso a la pagina</b>: lectura(R), escritura(W) y ejecucion (X), este ultimo solo para paginas de codigo. Tambien suele existir un bit que indica si la pagina ha sido modificada (datos) y necesita escribirse en disco cuando sea sustituida. Los demas bits de contrl dependen de cada procesador."
   ]
  },
  {
   "cell_type": "markdown",
   "metadata": {},
   "source": [
    "<img src=\"entrada_pt.png\">"
   ]
  },
  {
   "cell_type": "markdown",
   "metadata": {},
   "source": [
    "Cada programa (proceso) puede ocupar una gran cantidad de memoria virtual. Por ejemplo en la arquitectura VAX, cada proceso puede tener hasta 2^31 = 2 GBytes de memoria virtual. Utilizando paginas de 2^9 = 512 bytes, eso significa que se necesitan tablas de paginas de 2^22 entradas por proceso. "
   ]
  },
  {
   "cell_type": "markdown",
   "metadata": {},
   "source": [
    "\\begin{equation}\n",
    "2^9 + 2^{22} = 2^{9+22} = 2^{31} \n",
    "\\end{equation}"
   ]
  },
  {
   "cell_type": "markdown",
   "metadata": {},
   "source": [
    "La cantidad de memoria dedicada solo a tablas de paginas podria ser inaceptablemente alta. Para solucionar este problema, la mayoria de los esquemas de memoria virtual almacenan las tablas de paginas en la propia memoria virtual, en lugar de utilizar la memoria fisica. Esto significa que la tabla de paginas esta sujeta a paginacion, igual que el resto de los programas y datos. Cuando un programa se esta ejecutando, al menos una parte de su tabla de paginas, incluyendo el elemento correspondiente a la pagina actualmente en ejecucion, debe estar en la memoria principal."
   ]
  },
  {
   "cell_type": "markdown",
   "metadata": {},
   "source": [
    "### Tablas de paginas de varios niveles"
   ]
  },
  {
   "cell_type": "markdown",
   "metadata": {},
   "source": [
    "Algunos procesadores hacen uso de un esquema de dos o mas niveles para organizar las tablas de paginas. En este esquema, hay una pagina de directorio de nivel 1 en la que cada elemento apunta a una tabla de paginas de nivel 2, y asi sucesivamente. En la siguiente figura se muestra una TP organizada en tres niveles: N1, N2 y N3. Tipicamente, la longitud maxima de una tabla de paginas se restringe al tamanio de una pagina."
   ]
  },
  {
   "cell_type": "markdown",
   "metadata": {},
   "source": [
    "<img src=\"tp_varios_niveles.png\">"
   ]
  },
  {
   "cell_type": "markdown",
   "metadata": {},
   "source": [
    "### Tabla de paginas invertida HASH"
   ]
  },
  {
   "cell_type": "markdown",
   "metadata": {},
   "source": [
    "Esta alternativa elimina de la TP las entradas que no apuntan a una pagina de la memoria fisica, reduciendo las entradas a numero igual el de paginas de la memoria fisica. El campo NPV de la DV se hace corresponder sobre una tabla de hash mediante una funcion de hash sencilla. La tabla de hash incluye un puntero a una TP invertida, que contiene los elementos de la TP. Existe un elemento en la tabla de hash y en la tabla de paginas invertida para cada pagina de memoria fisica, en ves de para cada pagina de memoria virtual."
   ]
  },
  {
   "cell_type": "markdown",
   "metadata": {},
   "source": [
    "Se necesita, pues, una zona fija de la memoria fisica para las tablas, independientemente del numero de programas o paginas virtuales que se admitan. Puesto que mas de una DV puede apuntar al mismo elemento de la tabla de hash, se utiliza una tecnica de encadenamiento para solucionar este problema. La tecnica de hash da lugar a cadenas usualemente cortas, con uno o dos elmeentos. Esta alternativa de TP se utiliza en el PowerPC."
   ]
  },
  {
   "cell_type": "markdown",
   "metadata": {},
   "source": [
    "<img src=\"esquema_con_tp_invertida.png\">"
   ]
  },
  {
   "cell_type": "markdown",
   "metadata": {},
   "source": [
    "### Buffer de traduccion anticipada (TLB)"
   ]
  },
  {
   "cell_type": "markdown",
   "metadata": {},
   "source": [
    "En principio toda referencia a memoria virtual requiere dos accesos a la memoria fisica: uno para acceder al elemento de la TP, y otro para acceder a la memoria fisica. Por tanto, un esquema de memoria virtual como el que acabamos de estudiar duplicaria el tiempo de acceso a memoria."
   ]
  },
  {
   "cell_type": "markdown",
   "metadata": {},
   "source": [
    "Para evitar este inconveniente los esquemas de memoria virtual utilizan una cache especial para los elementos de la TP, llamada usualmente <b>buffer de traduccion anticipada (TLB, Translation Lookaside Buffer)</b>"
   ]
  },
  {
   "cell_type": "markdown",
   "metadata": {},
   "source": [
    "El TLB funciona lo mismo que una memoria cache, y contiene aquellas entradas de la TP a las que se han accedido recientemente. Por el principio de localidad temporal, la mayoria de las referencias a memoria corresonderar a posiciones incluidas en paginas recientemente utilizadas. Por este motivo, la mayoria de las referencias involucran a entradas de la TP presentes en el TLB. Normalmente el TLB utiliza una correspondencia totalmente asociativa, por lo que una entrada de la TP puede ubicarse en cualquier posicion del TLB."
   ]
  },
  {
   "cell_type": "markdown",
   "metadata": {},
   "source": [
    "<img src=\"esquema_con_tlb.png\">"
   ]
  },
  {
   "cell_type": "markdown",
   "metadata": {},
   "source": [
    "## Interaccion entre la memoria virtual y la memoria cache"
   ]
  },
  {
   "cell_type": "markdown",
   "metadata": {},
   "source": [
    "La memoria virtual debe interactuar con la memoria cache (no con la cahe que implementa el TLB, sino con la cache de la memoria principal)."
   ]
  },
  {
   "cell_type": "markdown",
   "metadata": {},
   "source": [
    "Para traducir una DV el sistema de memoria consulta el TLB para comprobar si la entrada de la TP se encuentra en el. Si es asi, se genera la direccion real (fisica), combinando el NPF con el DP. Si no, se accede a la TP en busca del elemento correspondiente. Una vez que se ha generado la direccion fisica, compuesta por una etiqueta y un numero de conjunto, se consulta la cache para ver si el bloque que contiene la palabra referenciada se encuentra en dicho conjunto. Si es asi, se envia al procesador. Si no, se produce un fallo de cache y se busca la palabra en la memoria principal."
   ]
  },
  {
   "cell_type": "markdown",
   "metadata": {},
   "source": [
    "Por tanto, la direccion virtual debe pasar primero por el TLB antes de que la direccion fisica pueda acceder a la cache, lo que alarga el tiempo de acierto. Este mecanismo se puede acelerar utilizando dos alternativas:"
   ]
  },
  {
   "cell_type": "markdown",
   "metadata": {},
   "source": [
    "a) Acceder en paralelo (simultamente) al TLB para buscar el NPF y al directorio de la cache para buscar el bloque.<br>\n",
    "b) Utilizar caches con direcciones virtuales."
   ]
  },
  {
   "cell_type": "markdown",
   "metadata": {},
   "source": [
    "###  Acceso paralelo a TLB y cache"
   ]
  },
  {
   "cell_type": "markdown",
   "metadata": {},
   "source": [
    "La primera alternativa requiere que la longitud del campo desplazamiento DP de la DV(igual al DP de la DF) sea mayor o igual que los campos de conjunto y palabra del formato de la DF para la cache, tal como se muestra en la siguiente figura. De esta forma sera posible realizar en paralelo la busqueda en el TLB del NPF que se corresponde con la etiqueta, y en el directorio de la cache en el numero de bloque (linea), que junto a la pabra dentro del bloque, se corresponde con el DP, del que se dispone desde el instante que se genera la DV, pues no requiere traduccion."
   ]
  },
  {
   "cell_type": "markdown",
   "metadata": {},
   "source": [
    "<img src=\"esquema_lectura_paralelo.png\">"
   ]
  },
  {
   "cell_type": "markdown",
   "metadata": {},
   "source": [
    "Esto significa que el tamanio de la cache viene impuesto por el tamanio de la pagina y el grado de asociatividad. Por ejemplo, si tenemos un tamanio de pagina de 1K, el DP tendra 10 bits. Si el numero de palabras por bloque es 8(3 bits de palabra) quedaran 7 bits para el campo conjunto de la direccion fisica de la cache. Si la asociatividad fuese 1 (correspondencia directa) con esos 7 bits podriamos distinguir tan solo 128 marcos de bloque o lineas de la cache, lo que impondria un tamanio de cache de 128 x 8 = 1024 = 1K."
   ]
  },
  {
   "cell_type": "markdown",
   "metadata": {},
   "source": [
    "Para aumentar este tamanio tendriamos que aumentar la asociatividad. Por ejemplo, si el grado de asociatividad es 2, el tamanio de la cache sera de 2K. Cuando aumenta el grado de asociatividad, tambien aumenta las comparaciones que debemos realizar con la etiqueta obtenida del TLB, ya que se deben comparar con ella todas las etiquetas del conjunto de la cache (tantas como vias)."
   ]
  },
  {
   "cell_type": "markdown",
   "metadata": {},
   "source": [
    "###  Caches con direcciones virtuales"
   ]
  },
  {
   "cell_type": "markdown",
   "metadata": {},
   "source": [
    "La segunda alternativa de utilizar caches direccionadas virtualmente tiene la ventaja de que en caso de acierto en la cache, no es necesario el proceso de traduccion. Sin embargo, esta alternativa tiene dos problemas fundamentales. El primero surge en las conmutaciones de procesos. Cuando se cambia de proceso, la misma direccion virtual de cada proceso referencia diferentes direcciones fisica, lo que exige que se limpie la cache y esto supone una gran fuente de fallos forzosos. El segundo se origina porque es posible que distintos procesos con diferentes direcciones virutales se correspondan con la misma direccion fisica (alising). Esto puede producir dos copias del mismo dato en una cache virtual, lo que ocasiona problemas de inconsistencia si hay escrituras."
   ]
  },
  {
   "cell_type": "markdown",
   "metadata": {},
   "source": [
    "## Multiples Espacios Virtuales"
   ]
  },
  {
   "cell_type": "markdown",
   "metadata": {},
   "source": [
    "Una forma de acelerar la comutacion de procesos evitando tener que borrar la TP (que puede estar en TLB o memoria invertida) es extender las entradas con un campo que contiene el identificador de proceso (PID)."
   ]
  },
  {
   "cell_type": "markdown",
   "metadata": {},
   "source": [
    "<img src=\"multiples_espacios_virtuales.png\">"
   ]
  },
  {
   "cell_type": "markdown",
   "metadata": {},
   "source": [
    "<hr>"
   ]
  },
  {
   "cell_type": "markdown",
   "metadata": {},
   "source": [
    "# Memoria Virtual Segmentada"
   ]
  },
  {
   "cell_type": "markdown",
   "metadata": {},
   "source": [
    "Mientras que la paginacion es transparente para el programador, y le proporciona un espacio mayor de direcciones, la segmentacion es normalmente visible para el programador, y proporciona una forma logica de organizar los programas y los datos, y asociarle los privilegios y atributos de proteccion."
   ]
  },
  {
   "cell_type": "markdown",
   "metadata": {},
   "source": [
    "La segmentacion permite que el programador vea la memoria constituida por multiples espacios de direcciones o segmentos. Los segmentos tienen un tamanio variable, dinamico."
   ]
  },
  {
   "cell_type": "markdown",
   "metadata": {},
   "source": [
    "Usualmente, el programador o el sistema operativo asignara programas y datos a segmentos distintos. Puede haber segmentos de programa distintos para varios tipos de programas, y tambien distintos segmentos de datos. Se pueden asginar a cada elemento derechos de acceso y uso. Las direcciones virtuales estaran constituidas en este caso por un numero de segmento (NS) y un desplazamiento dentro del segmento (DP). El proceso de traduccion de direccion virtual a fisica es analogo al de la memoria virtual paginada, con la diferencia que ahora tenemos una tabla de segmentos (TS) cuyas entradas (denominadas tambien descriptores de segmentos) contienen, ademas de los bits de control y la direccion real del segmento, la longitud L del mismo, ya que los segmentos tienen longitud variable. En la siguiente figura hemos representado esquematicamente el proceso de traduccion."
   ]
  },
  {
   "cell_type": "markdown",
   "metadata": {},
   "source": [
    "<img src=\"memoria_virtual_segmentada.png\">"
   ]
  },
  {
   "cell_type": "markdown",
   "metadata": {},
   "source": [
    "Esta organizacion tiene ciertas ventajas para el programador, frente a un espacio de direcciones no segmentado:"
   ]
  },
  {
   "cell_type": "markdown",
   "metadata": {},
   "source": [
    "- <b>Simplifica la gestion de estructuras variables de datos</b>. Si el programador no conoce apriori el tamanio que puede llegar a tener una estructura de datos particular, no es necesario que lo presuponga. A la estructura de datos se le asigna su propio segmento, y el sistema operativo lo expandira o lo reducira segun sea necesario.\n",
    "- Permite modificar los programas y recompilarlos independientemente, sin que sea necesario volver a enlazar y cargar el conjunto entero de programas. De nuevo, esto se consigue utilizando varios segmentos.\n",
    "- <b>Permite que varios procesos compartan segmentos</b>. Un programador puede situar un programa correspondiente a una utilidad o una tabla de datos de interes en un segmento, que puede ser direccionado por otros procesos.\n",
    "- <b>Se facilita la proteccion</b>. Puesto que un segmento se construye para contener un conjunto de programas o datos bien definido, el programador o el administrador del sistema puede asignar privilegios de acceso de forma adecuada."
   ]
  },
  {
   "cell_type": "markdown",
   "metadata": {},
   "source": [
    "# Memoria con Segmentos Paginados"
   ]
  },
  {
   "cell_type": "markdown",
   "metadata": {},
   "source": [
    "Como vimos en el apartado anterior, la segmentacion presenta una serie de propiedades ventajosas para el programador, sin embargo, la paginacion proporciona una forma mas eficiente de gestionar el espacio en memoria. Para combinar las ventajas de ambas, algunos sistemas permiten una combinacion de ambas, es decir, un sistema virtual con <b>segmentos paginados</b>. El mecanismo de traduccion de DV a DF no es mas que la composicion del mecanismo de la memoria segmentada y el de la paginada, tal como se muestra en la siguiente figura:"
   ]
  },
  {
   "cell_type": "markdown",
   "metadata": {},
   "source": [
    "<img src=\"esquema_segmento_paginado.png\">"
   ]
  }
 ],
 "metadata": {
  "kernelspec": {
   "display_name": "Python 3",
   "language": "python",
   "name": "python3"
  },
  "language_info": {
   "codemirror_mode": {
    "name": "ipython",
    "version": 3
   },
   "file_extension": ".py",
   "mimetype": "text/x-python",
   "name": "python",
   "nbconvert_exporter": "python",
   "pygments_lexer": "ipython3",
   "version": "3.7.0"
  }
 },
 "nbformat": 4,
 "nbformat_minor": 2
}
