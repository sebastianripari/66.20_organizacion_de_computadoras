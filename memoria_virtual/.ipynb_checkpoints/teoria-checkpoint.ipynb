{
 "cells": [
  {
   "cell_type": "markdown",
   "metadata": {},
   "source": [
    "# Memoria Virtual"
   ]
  },
  {
   "cell_type": "markdown",
   "metadata": {},
   "source": [
    "Es una memoria que a diferencia de la <b>memoria ram</b> no es un componente de hardware. Esta vive en el <b>disco rigido</b> puede ser de diversos tamanios y suele ser mucho mas grande que la memoria ram. "
   ]
  },
  {
   "cell_type": "markdown",
   "metadata": {},
   "source": [
    "Esta funciona en conjunto con la memoria ram, cuando memoria ram ya no puede almacenar todos los programas que estamos corriendo, manda a la memoria virtual porciones de memoria de los programas que estamos corriendo pero que prablemente no estamos usando. De esta manera nosotros podemos abrir programas que en su conjunto superen la capacidad de nuestra memoria ram, sino fuera por esto. Estariamos limitados al espacio que posee nuestra ram."
   ]
  }
 ],
 "metadata": {
  "kernelspec": {
   "display_name": "Python 3",
   "language": "python",
   "name": "python3"
  },
  "language_info": {
   "codemirror_mode": {
    "name": "ipython",
    "version": 3
   },
   "file_extension": ".py",
   "mimetype": "text/x-python",
   "name": "python",
   "nbconvert_exporter": "python",
   "pygments_lexer": "ipython3",
   "version": "3.6.4"
  }
 },
 "nbformat": 4,
 "nbformat_minor": 2
}
