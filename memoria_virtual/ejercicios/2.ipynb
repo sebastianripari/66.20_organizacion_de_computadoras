{
 "cells": [
  {
   "cell_type": "markdown",
   "metadata": {},
   "source": [
    "2) Se tiene una memoria cache de 8KBytes, asociativa por conjuntos de grado 2, bloque de 16 bytes y politica de reemplazo LRU.<br>"
   ]
  },
  {
   "cell_type": "markdown",
   "metadata": {},
   "source": [
    "A) Realice un diagrama en bloques detallado de la memoria cache (incluir el area de tags). <br>"
   ]
  },
  {
   "cell_type": "markdown",
   "metadata": {},
   "source": [
    "b) Dar las direcciones para cinco datos A,B,C,D,E de manera tal que accedidos en el orden dado por una CPU MIPS se cumpla lo siguiente:<br>\n",
    "1. El acceso a B es hit.\n",
    "2. C mapea en un conjunto distinto al correspondiente a A.\n",
    "3. El acceso a E es miss."
   ]
  },
  {
   "cell_type": "markdown",
   "metadata": {},
   "source": [
    "c) Indicar en el diagrama del punto a) el contenido final de la memoria cache (area de datos y area de tags).\n",
    "Las direcciones se deben dar en hexadecimal. No se pueden hacer hipotesis acerca del contenido previo de la cache. Justificar sus respuestas.<br>"
   ]
  },
  {
   "cell_type": "markdown",
   "metadata": {},
   "source": [
    "<hr>"
   ]
  },
  {
   "cell_type": "code",
   "execution_count": null,
   "metadata": {},
   "outputs": [],
   "source": []
  }
 ],
 "metadata": {
  "kernelspec": {
   "display_name": "Python 3",
   "language": "python",
   "name": "python3"
  },
  "language_info": {
   "codemirror_mode": {
    "name": "ipython",
    "version": 3
   },
   "file_extension": ".py",
   "mimetype": "text/x-python",
   "name": "python",
   "nbconvert_exporter": "python",
   "pygments_lexer": "ipython3",
   "version": "3.6.4"
  }
 },
 "nbformat": 4,
 "nbformat_minor": 2
}
