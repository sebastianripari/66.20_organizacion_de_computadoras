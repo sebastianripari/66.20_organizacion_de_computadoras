{
 "cells": [
  {
   "cell_type": "markdown",
   "metadata": {},
   "source": [
    "# Memoria Virtual"
   ]
  },
  {
   "cell_type": "markdown",
   "metadata": {},
   "source": [
    "Es una memoria que a diferencia de la <b>memoria ram</b> no es un componente de hardware. Esta vive en el <b>disco rigido</b> puede ser de diversos tamanios y suele ser mucho mas grande que la memoria ram. "
   ]
  },
  {
   "cell_type": "markdown",
   "metadata": {},
   "source": [
    "Esta funciona en conjunto con la memoria ram, cuando memoria ram ya no puede almacenar todos los programas que estamos corriendo, manda a la memoria virtual porciones de memoria de los programas que estamos corriendo pero que prablemente no estamos usando. De esta manera nosotros podemos abrir programas que en su conjunto superen la capacidad de nuestra memoria ram, sino fuera por esto. Estariamos limitados al espacio que posee nuestra ram."
   ]
  },
  {
   "cell_type": "markdown",
   "metadata": {},
   "source": [
    "En la siguiente figura se representa el mecanismo de traduccion de <b>direcciones virtuales</b> a <b>direcciones fisicas</b>."
   ]
  },
  {
   "cell_type": "markdown",
   "metadata": {},
   "source": [
    "<img src=\"direccion_virtual_a_direccion_fisica.png\">"
   ]
  },
  {
   "cell_type": "markdown",
   "metadata": {},
   "source": [
    "Como se ilustra en la imagen los programas trabajan con <b>direcciones virtuales (DV)</b> que estas son traducidas a <b>direcciones fisicas (DF)</b>. Una direccion virtual esta compuesta por el <b>numero de pagina virtual (NPV)</b> y un <b>desplazamiento de pagina (DP)</b>. Con el <b>NPV</b> sumado a un <b>Registro Base de la Tabla de Paginas</b> armamos la entrada a la tabla para ver si existe en ella. Si existe entonces la tabla nos devuelve el <b>numero de pagina fisica</b> y concatenandole el <b>desplazamiento de pagina</b> tenemos la <b>direccion fisica</b> totalmente armada. Asi que podemos ir a la memoria fisica y recuperar el dato. En el caso de que no exista la entrada en la tabla de paginas significa que la pagina no esta en memoria fisica, sino que se encuentra en disco, en este caso se procedera a llevar la pagina a memoria fisica. "
   ]
  },
  {
   "cell_type": "markdown",
   "metadata": {},
   "source": [
    "### Analisis de Bits"
   ]
  },
  {
   "cell_type": "markdown",
   "metadata": {},
   "source": [
    "#### Direccion Virtual"
   ]
  },
  {
   "cell_type": "markdown",
   "metadata": {},
   "source": [
    "Numero de Bits(DV) = Numero de Bits(NPV) + Numero de Bits(DP)"
   ]
  },
  {
   "cell_type": "markdown",
   "metadata": {},
   "source": [
    "La cantidad de bits del numero de la pagina virtual lo determina el numero de paginas virtuales: $log_2$ N de paginas virtuales"
   ]
  },
  {
   "cell_type": "markdown",
   "metadata": {},
   "source": [
    "La cantidad de bits del desplazamiento de pagina lo determina el tamanio de una pagina: $log_2$ Tamanio de una pagina"
   ]
  },
  {
   "cell_type": "markdown",
   "metadata": {},
   "source": [
    "#### Direccion Fisica"
   ]
  },
  {
   "cell_type": "markdown",
   "metadata": {},
   "source": [
    "Numero de Bits(DF) = Numero de Bits(NPF) + Numero de Bits(DP)"
   ]
  },
  {
   "cell_type": "markdown",
   "metadata": {},
   "source": [
    "La cantidad de bits del numero de la pagina fisica lo determina el numero de paginas fisicas: $log_2$ N de paginas fisicas"
   ]
  },
  {
   "cell_type": "markdown",
   "metadata": {},
   "source": [
    "La cantidad de bits del desplazamiento de pagina lo determina el tamanio de una pagina: $log_2$ Tamanio de una pagina"
   ]
  }
 ],
 "metadata": {
  "kernelspec": {
   "display_name": "Python 3",
   "language": "python",
   "name": "python3"
  },
  "language_info": {
   "codemirror_mode": {
    "name": "ipython",
    "version": 3
   },
   "file_extension": ".py",
   "mimetype": "text/x-python",
   "name": "python",
   "nbconvert_exporter": "python",
   "pygments_lexer": "ipython3",
   "version": "3.7.0"
  }
 },
 "nbformat": 4,
 "nbformat_minor": 2
}
