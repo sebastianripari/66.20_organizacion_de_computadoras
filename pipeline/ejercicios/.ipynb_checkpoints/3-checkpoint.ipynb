{
 "cells": [
  {
   "cell_type": "markdown",
   "metadata": {},
   "source": [
    "3) Dibujar en un diagrama de ejecucion pipeline y calcular la cantidad de ciclos de reloj que insume la ejecucion del siguiente fragmento de programa para los siguientes casos en un procesador MIPS que utiliza el esquema de salto demorado (1 delay slot) y un pipeline de 5 etapas:"
   ]
  },
  {
   "cell_type": "markdown",
   "metadata": {},
   "source": [
    "ADD R1, R2, R3<br>\n",
    "LW R4, 33(R1)<br>\n",
    "ADDI R4, R0, 100<br>\n",
    "SLTI R5, R4, 500<br>\n",
    "BGTZ R5, FIN //Este salto es no tomado<br> \n",
    "SLL R6, R5, 2<br>\n",
    "...<br>\n",
    "FIN:<br>\n",
    "ADD R7, R6, R8"
   ]
  },
  {
   "cell_type": "markdown",
   "metadata": {},
   "source": [
    "a) No se dispone de ningun tipo de hardware de bypassing o forwarding.<br>\n",
    "b) Se dispone de todo posible hardware de bypassing o forwarding."
   ]
  },
  {
   "cell_type": "markdown",
   "metadata": {},
   "source": [
    "<hr>"
   ]
  },
  {
   "cell_type": "markdown",
   "metadata": {},
   "source": [
    "a)"
   ]
  },
  {
   "cell_type": "markdown",
   "metadata": {},
   "source": [
    "b)"
   ]
  },
  {
   "cell_type": "markdown",
   "metadata": {},
   "source": [
    "Ciclo|C1|C2|C3|C4|C5|C6|C7|C8|C9|C10|C11|C12|C13|C14|C15|C16<br>\n",
    "-|-|-|-|-|-|-|-|-|-|-|-|-|-|-|-|-|\n",
    "ADD|IF|ID|EX|MEM|WB\n",
    "LW|-|IF|ID|Stall|Stall|EX|MEM|WB|\n",
    "ADDI|-|-|IF|Stall|Stall|ID|EX|MEM|WB\n",
    "SLTI|-|-|-|-|-|IF|ID|Stall|Stall|EX|MEM|WB\n",
    "BGTZ|-|-|-|-|-|-|IF|Stall|Stall|ID|Stall|Stall|EX|MEM|WB\n",
    "SLL|-|-|-|-|-|-|-|-|-|IF|Stall|Stall|ID|EX|MEM|WB"
   ]
  },
  {
   "cell_type": "markdown",
   "metadata": {},
   "source": [
    "<b>Observacion</b>: Cuando tengo un <b>stall</b> nada por debajo puede seguir, solo debe existir stall. Es una gran regla practica."
   ]
  }
 ],
 "metadata": {
  "kernelspec": {
   "display_name": "Python 3",
   "language": "python",
   "name": "python3"
  },
  "language_info": {
   "codemirror_mode": {
    "name": "ipython",
    "version": 3
   },
   "file_extension": ".py",
   "mimetype": "text/x-python",
   "name": "python",
   "nbconvert_exporter": "python",
   "pygments_lexer": "ipython3",
   "version": "3.7.0"
  }
 },
 "nbformat": 4,
 "nbformat_minor": 2
}
