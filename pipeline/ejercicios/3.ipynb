{
 "cells": [
  {
   "cell_type": "markdown",
   "metadata": {},
   "source": [
    "3) Dibujar en un diagrama de ejecucion pipeline y calcular la cantidad de ciclos de reloj que insume la ejecucion del siguiente fragmento de programa para los siguientes casos en un procesador MIPS que utiliza el esquema de salto demorado (1 delay slot) y un pipeline de 5 etapas:"
   ]
  },
  {
   "cell_type": "markdown",
   "metadata": {},
   "source": [
    "ADD R1, R2, R3<br>\n",
    "LW R4, RR(R1)<br>\n",
    "ADDI R4, R4, 100<br>\n",
    "SLTI R5, R4, 500<br>\n",
    "BGTZ R5, FIN<br>\n",
    "SLL R6, R5, 2\n",
    "...<br>\n",
    "FIN:<br>\n",
    "ADD R7, R6, R8"
   ]
  },
  {
   "cell_type": "markdown",
   "metadata": {},
   "source": [
    "a) No se dispone de ningun tipo de hardware de bypassing o forwarding.<br>\n",
    "b) Se dispone de todo posible hardware de bypassing o forwarding."
   ]
  },
  {
   "cell_type": "markdown",
   "metadata": {},
   "source": [
    "<hr>"
   ]
  },
  {
   "cell_type": "markdown",
   "metadata": {},
   "source": [
    "a)"
   ]
  }
 ],
 "metadata": {
  "kernelspec": {
   "display_name": "Python 3",
   "language": "python",
   "name": "python3"
  },
  "language_info": {
   "codemirror_mode": {
    "name": "ipython",
    "version": 3
   },
   "file_extension": ".py",
   "mimetype": "text/x-python",
   "name": "python",
   "nbconvert_exporter": "python",
   "pygments_lexer": "ipython3",
   "version": "3.7.0"
  }
 },
 "nbformat": 4,
 "nbformat_minor": 2
}
