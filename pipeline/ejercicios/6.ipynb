{
 "cells": [
  {
   "cell_type": "markdown",
   "metadata": {},
   "source": [
    "6) Riesgos de datos. Clasificacion de los riesgos de datos. Analisis de todos los tipos de riesgos de datos e ilustracion con ejemplos de secuencias de instrucciones para el procesador MIPS con implementacion pipeline de 5 etapas (IF, ID, EX, MEM, WB)."
   ]
  },
  {
   "cell_type": "markdown",
   "metadata": {},
   "source": [
    "<hr>"
   ]
  },
  {
   "cell_type": "markdown",
   "metadata": {},
   "source": [
    "## RAW (Read after Write)"
   ]
  },
  {
   "cell_type": "markdown",
   "metadata": {},
   "source": [
    "Es cuando se lee un dato luego de una escritura. Puede que se este leyendo el dato viejo si la lectura se realiza antes que la escritura."
   ]
  },
  {
   "cell_type": "markdown",
   "metadata": {},
   "source": [
    "#### Ejemplo "
   ]
  },
  {
   "cell_type": "markdown",
   "metadata": {},
   "source": [
    "ADD R3, R2, R1<br>\n",
    "ADD R5, R4, R3"
   ]
  },
  {
   "cell_type": "markdown",
   "metadata": {},
   "source": [
    "El siguiente esquema pipeline existe el riesgo RAW. Ya que el registro 3 se actualiza cuando se llega a la etapa de WB. Por lo tanto la segunda instruccion ADD esta utilizando el valor viejo de el registro 3."
   ]
  },
  {
   "cell_type": "markdown",
   "metadata": {},
   "source": [
    "Ciclos|C1|C2|C3|C4|C5|C6\n",
    "-|-|-|-\n",
    "ADD|IF|ID|EX|MEM|WB\n",
    "ADD|-|IF|ID|EX|MEM|WB"
   ]
  },
  {
   "cell_type": "markdown",
   "metadata": {},
   "source": [
    "Y en el siguiente esquema mostramos como solucionar este problema:"
   ]
  },
  {
   "cell_type": "markdown",
   "metadata": {},
   "source": [
    "Ciclos|C1|C2|C3|C4|C5|C6|C7|C8\n",
    "-|-|-|-|-|\n",
    "ADD|IF|ID|EX|MEM|WB\n",
    "ADD|-|IF|ID|Stall|Stall|EX|MEM|WB"
   ]
  },
  {
   "cell_type": "markdown",
   "metadata": {},
   "source": [
    "## WAR (Write After Read)"
   ]
  },
  {
   "cell_type": "markdown",
   "metadata": {},
   "source": [
    "Se refiere a cuando se realiza una escritura luego de una lectura. Puede existir el riesgo de que la escritura se haga antes de que se termine la lectura. Entonces se podria aver leido un dato incorrecto."
   ]
  },
  {
   "cell_type": "markdown",
   "metadata": {},
   "source": [
    "Mientras no haya operaciones multiciclo este tipo de riesgo no existe en un procesador."
   ]
  },
  {
   "cell_type": "markdown",
   "metadata": {},
   "source": [
    "## WAR (Write After Write)"
   ]
  },
  {
   "cell_type": "markdown",
   "metadata": {},
   "source": [
    "Refiere a cuando se realiza una escritura luego de otra escritura. Si la segunda no espero a que termine la primera puede que el dato escrito final quede invalido."
   ]
  },
  {
   "cell_type": "markdown",
   "metadata": {},
   "source": [
    "Mientras no haya operaciones multiciclo este tipo de riego no existe en un procesador."
   ]
  }
 ],
 "metadata": {
  "kernelspec": {
   "display_name": "Python 3",
   "language": "python",
   "name": "python3"
  },
  "language_info": {
   "codemirror_mode": {
    "name": "ipython",
    "version": 3
   },
   "file_extension": ".py",
   "mimetype": "text/x-python",
   "name": "python",
   "nbconvert_exporter": "python",
   "pygments_lexer": "ipython3",
   "version": "3.6.4"
  }
 },
 "nbformat": 4,
 "nbformat_minor": 2
}
