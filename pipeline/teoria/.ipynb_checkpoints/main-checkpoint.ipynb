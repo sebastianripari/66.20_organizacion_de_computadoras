{
 "cells": [
  {
   "cell_type": "markdown",
   "metadata": {},
   "source": [
    "# Pipeline"
   ]
  },
  {
   "cell_type": "markdown",
   "metadata": {},
   "source": [
    "El procesador funciona como una <b>linea de montaje</b>, donde las instrucciones van pasando por diferentes etapas. Estas son:"
   ]
  },
  {
   "cell_type": "markdown",
   "metadata": {},
   "source": [
    "<img src=\"imagenes/pipeline_mips32.svg.png\">"
   ]
  },
  {
   "cell_type": "markdown",
   "metadata": {},
   "source": [
    "- <b>IF (Instruction Fetch)</b>: El procesador agarra la instruccion.\n",
    "- <b>ID (Instruction Decode)</b>: El procesador decodifica la instruccion entendiendo que operacion tiene que hacer y con que registros o inmediatos.\n",
    "- <b>EX (Execute)</b>: La ALU ejecuta la respectiva operacion.\n",
    "- <b>MEM (Memory Access)</b>: Se realizan las escrituras y las lecturas a memoria.\n",
    "- <b>WB (Write Back)</b>: Se vuelcan los cambios en los registros."
   ]
  },
  {
   "cell_type": "markdown",
   "metadata": {},
   "source": [
    "#### Ejemplo:"
   ]
  },
  {
   "cell_type": "markdown",
   "metadata": {},
   "source": [
    "LW R10, 20(R1)<br>\n",
    "SUB R11, R2, R3<br>\n",
    "ADD R12, R3, R4<br>\n",
    "LW R13, 24(R1)<br>\n",
    "ADD R14, R5, R6"
   ]
  },
  {
   "cell_type": "markdown",
   "metadata": {},
   "source": [
    "Ciclo|C1|C2|C3|C4|C5|C6|C7|C8\n",
    "-|-|-|-|-\n",
    "LW|IF|ID|EX|MEM|WB\n",
    "SUB|-|IF|ID|EX|MEM|WB\n",
    "ADD|-|-|IF|ID|EX|MEM|WB\n",
    "LW|-|-|-|IF|EX|MEM|WB\n",
    "ADD|-|-|-|-|IF|EX|MEM|WB"
   ]
  },
  {
   "cell_type": "markdown",
   "metadata": {},
   "source": [
    "Observar la ventaja de la linea de montaje, estamos logrando que varias instrucciones se ejecuten simultaneamente, consiguendo que el programa se ejecute en menos ciclos de reloj, en este caso 8. Sino usariamos este esquema y ejecutariamos de a una instruccion, tendriamos 5 * 6 = 30 ciclos de reloj. Muchas mas instrucciones."
   ]
  },
  {
   "cell_type": "markdown",
   "metadata": {},
   "source": [
    "## Stall"
   ]
  },
  {
   "cell_type": "markdown",
   "metadata": {},
   "source": [
    "Hay instrucciones que dependen de el resultado de otras, entonces el procesador debe esperar a tener el resultado de la anterior para poder correr la actual."
   ]
  },
  {
   "cell_type": "markdown",
   "metadata": {},
   "source": [
    "#### Ejemplo:"
   ]
  },
  {
   "cell_type": "markdown",
   "metadata": {},
   "source": [
    "ADD R2, R1, R0<br>\n",
    "ADD R4, R3, R2<br>"
   ]
  },
  {
   "cell_type": "markdown",
   "metadata": {},
   "source": [
    "Ciclo|C1|C2|C3|C4|C5|C6|C7|C8\n",
    "-|-|-|-|\n",
    "ADD|IF|ID|EX|MEM|WB\n",
    "ADD|-|IF|ID|Stall|Stall|EX|MEM|WB"
   ]
  },
  {
   "cell_type": "markdown",
   "metadata": {},
   "source": [
    "Para correr la segunda instruccion ADD necesitamos el resultado de la primera instruccion ADD osea necesitamos el valor actual de R2. Por lo tanto el procesador tuvo que demorar la etapa de EX (Execute) durante dos ciclos."
   ]
  },
  {
   "cell_type": "markdown",
   "metadata": {},
   "source": [
    "## Forwarding"
   ]
  },
  {
   "cell_type": "markdown",
   "metadata": {},
   "source": [
    "Esta tecnologia permite que la salida de una etapa intermedia valla a parar a alguna etapa de una instruccion siguiente."
   ]
  },
  {
   "cell_type": "markdown",
   "metadata": {},
   "source": [
    "Uso el mismo ejemplo anterior, pero ahora lo resuelvo con forwarding:"
   ]
  },
  {
   "cell_type": "markdown",
   "metadata": {},
   "source": [
    "Ciclo|C1|C2|C3|C4|C5|C6|C7|C8\n",
    "-|-|-|-|\n",
    "ADD|IF|ID|EX|MEM|WB\n",
    "ADD|-|IF|ID|EX|MEM|WB"
   ]
  },
  {
   "cell_type": "markdown",
   "metadata": {},
   "source": [
    "Indico donde se aplica el forwarding."
   ]
  },
  {
   "cell_type": "markdown",
   "metadata": {},
   "source": [
    "<img src=\"imagenes/forwarding.png\">"
   ]
  }
 ],
 "metadata": {
  "kernelspec": {
   "display_name": "Python 3",
   "language": "python",
   "name": "python3"
  },
  "language_info": {
   "codemirror_mode": {
    "name": "ipython",
    "version": 3
   },
   "file_extension": ".py",
   "mimetype": "text/x-python",
   "name": "python",
   "nbconvert_exporter": "python",
   "pygments_lexer": "ipython3",
   "version": "3.6.4"
  }
 },
 "nbformat": 4,
 "nbformat_minor": 2
}
