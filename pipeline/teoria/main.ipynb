{
 "cells": [
  {
   "cell_type": "markdown",
   "metadata": {},
   "source": [
    "# Pipeline"
   ]
  },
  {
   "cell_type": "markdown",
   "metadata": {},
   "source": [
    "El procesador funciona como una <b>linea de montaje</b>, donde las instrucciones van pasando por diferentes etapas. Estas son:"
   ]
  },
  {
   "cell_type": "markdown",
   "metadata": {},
   "source": [
    "<img src=\"imagenes/pipeline_mips32.svg.png\">"
   ]
  },
  {
   "cell_type": "markdown",
   "metadata": {},
   "source": [
    "- <b>IF (Instruction Fetch)</b>: El procesador agarra la instruccion.\n",
    "- <b>ID (Instruction Decode)</b>: El procesador decodifica la instruccion entendiendo que operacion tiene que hacer y con que registros o inmediatos.\n",
    "- <b>EX (Execute)</b>: La ALU ejecuta la respectiva operacion.\n",
    "- <b>MEM (Memory Access)</b>: Se realizan las escrituras y las lecturas a memoria.\n",
    "- <b>WB (Write Back)</b>: Se vuelcan los cambios en los registros."
   ]
  }
 ],
 "metadata": {
  "kernelspec": {
   "display_name": "Python 3",
   "language": "python",
   "name": "python3"
  },
  "language_info": {
   "codemirror_mode": {
    "name": "ipython",
    "version": 3
   },
   "file_extension": ".py",
   "mimetype": "text/x-python",
   "name": "python",
   "nbconvert_exporter": "python",
   "pygments_lexer": "ipython3",
   "version": "3.6.4"
  }
 },
 "nbformat": 4,
 "nbformat_minor": 2
}
