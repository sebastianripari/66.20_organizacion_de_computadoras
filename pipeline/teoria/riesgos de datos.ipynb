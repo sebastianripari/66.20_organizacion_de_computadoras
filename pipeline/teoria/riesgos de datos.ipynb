{
 "cells": [
  {
   "cell_type": "markdown",
   "metadata": {},
   "source": [
    "# Riesgos de Datos"
   ]
  },
  {
   "cell_type": "markdown",
   "metadata": {},
   "source": [
    "Los riesgos de datos ocurren cuando estos son modificados."
   ]
  },
  {
   "cell_type": "markdown",
   "metadata": {},
   "source": [
    "- <b>Read after Write (RAW)</b>: Es cuando se realiza una lectura posterior a una escritura. Si el dato se lee antes de que se termine de escribir se leeran datos incorrectos.\n",
    "- <b>Write after Read (WAR)</b>: Es cuando se escribe un dato posterior a una leida. Si el dato se escribe antes de que se lea, se puede leer un dato incorrecto.\n",
    "- <b>Write after Write (WAW)</b>: Es cuando se escribe un dato posterior a la escritura de otro dato. Puede que la primer escritura termine despues de la segunda, quedando un valor incorrecto."
   ]
  }
 ],
 "metadata": {
  "kernelspec": {
   "display_name": "Python 3",
   "language": "python",
   "name": "python3"
  },
  "language_info": {
   "codemirror_mode": {
    "name": "ipython",
    "version": 3
   },
   "file_extension": ".py",
   "mimetype": "text/x-python",
   "name": "python",
   "nbconvert_exporter": "python",
   "pygments_lexer": "ipython3",
   "version": "3.6.4"
  }
 },
 "nbformat": 4,
 "nbformat_minor": 2
}
